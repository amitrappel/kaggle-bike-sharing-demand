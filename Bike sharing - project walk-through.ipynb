{
 "cells": [
  {
   "cell_type": "code",
   "execution_count": 0,
   "metadata": {
    "colab": {
     "autoexec": {
      "startup": false,
      "wait_interval": 0
     }
    },
    "colab_type": "code",
    "id": "IIREPCR1Z-tr"
   },
   "outputs": [],
   "source": [
    "from pandas import read_csv\n",
    "import pandas as pd\n",
    "import matplotlib.pyplot as plt\n",
    "from sklearn.model_selection import train_test_split, cross_val_score, GridSearchCV\n",
    "from sklearn.ensemble import RandomForestRegressor\n",
    "from numpy import sqrt, log1p\n",
    "from sklearn.metrics import make_scorer\n",
    "from sklearn.metrics import mean_squared_error as MSE\n",
    "import seaborn as sns\n",
    "from sklearn.base import BaseEstimator\n",
    "from sys import modules\n",
    "\n",
    "import warnings\n",
    "warnings.filterwarnings('ignore')\n",
    "\n",
    "pd.set_option('max_colwidth', 10)\n",
    "\n",
    "%matplotlib inline"
   ]
  },
  {
   "cell_type": "markdown",
   "metadata": {
    "colab_type": "text",
    "id": "-8qIRGqJZ-tx"
   },
   "source": [
    "This notebook includes a step-by-step For more details, see [Bike Sharing Demand][1] competition page on Kaggle.\n",
    "\n",
    "[1]: https://www.kaggle.com/c/bike-sharing-demand \"Bike Sharing Demand\""
   ]
  },
  {
   "cell_type": "markdown",
   "metadata": {
    "colab_type": "text",
    "id": "fEj_hXuxZ-ty"
   },
   "source": [
    "# Get the data"
   ]
  },
  {
   "cell_type": "markdown",
   "metadata": {
    "colab_type": "text",
    "id": "ReKb6Zl07ktB"
   },
   "source": [
    "Upload *train.csv*."
   ]
  },
  {
   "cell_type": "markdown",
   "metadata": {
    "colab_type": "text",
    "id": "005G0xJQ68l7"
   },
   "source": [
    "> **Note:** Be careful not to confuse our internal *test_data*, which is splitted from Kaggle's *train.csv*, with the submission test data, which is given by Kaggle in a separate file called *test.csv*, and we will upload only at the very end of our work."
   ]
  },
  {
   "cell_type": "code",
   "execution_count": 2,
   "metadata": {
    "colab": {
     "autoexec": {
      "startup": false,
      "wait_interval": 0
     },
     "base_uri": "https://localhost:8080/",
     "height": 73,
     "resources": {
      "http://localhost:8080/nbextensions/google.colab/files.js": {
       "data": "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",
       "headers": [
        [
         "content-type",
         "application/javascript"
        ]
       ],
       "ok": true,
       "status": 200,
       "status_text": ""
      }
     }
    },
    "colab_type": "code",
    "executionInfo": {
     "elapsed": 12533,
     "status": "ok",
     "timestamp": 1533373601161,
     "user": {
      "displayName": "Amit Rappel",
      "photoUrl": "//lh5.googleusercontent.com/-Stg14jONmNc/AAAAAAAAAAI/AAAAAAAAAos/0hU6Y5dO8yk/s50-c-k-no/photo.jpg",
      "userId": "110543092444518971604"
     },
     "user_tz": -180
    },
    "id": "ia166f_EaH3L",
    "outputId": "a3c837e0-103a-4a65-cbed-2e0e8ff2d33e"
   },
   "outputs": [
    {
     "data": {
      "text/html": [
       "\n",
       "     <input type=\"file\" id=\"files-a1a983bc-94f7-45a3-9e6c-855290bd39c3\" name=\"files[]\" multiple disabled />\n",
       "     <output id=\"result-a1a983bc-94f7-45a3-9e6c-855290bd39c3\">\n",
       "      Upload widget is only available when the cell has been executed in the\n",
       "      current browser session. Please rerun this cell to enable.\n",
       "      </output>\n",
       "      <script src=\"/nbextensions/google.colab/files.js\"></script> "
      ],
      "text/plain": [
       "<IPython.core.display.HTML object>"
      ]
     },
     "metadata": {
      "tags": []
     },
     "output_type": "display_data"
    },
    {
     "name": "stdout",
     "output_type": "stream",
     "text": [
      "Saving train.csv to train (1).csv\n"
     ]
    }
   ],
   "source": [
    "if 'google.colab' in modules:\n",
    "    from google.colab import files\n",
    "    uploaded = files.upload()\n",
    "    "
   ]
  },
  {
   "cell_type": "markdown",
   "metadata": {
    "colab_type": "text",
    "id": "nn_r8Q01l2qO"
   },
   "source": [
    "**NOTE:** The file *test.csv* contains the data for the final submission, and we are not going to use it until the very end of this tutorial. We are going to create our own test data by splitting *train.csv*."
   ]
  },
  {
   "cell_type": "code",
   "execution_count": 3,
   "metadata": {
    "colab": {
     "autoexec": {
      "startup": false,
      "wait_interval": 0
     },
     "base_uri": "https://localhost:8080/",
     "height": 233
    },
    "colab_type": "code",
    "executionInfo": {
     "elapsed": 630,
     "status": "ok",
     "timestamp": 1533373606863,
     "user": {
      "displayName": "Amit Rappel",
      "photoUrl": "//lh5.googleusercontent.com/-Stg14jONmNc/AAAAAAAAAAI/AAAAAAAAAos/0hU6Y5dO8yk/s50-c-k-no/photo.jpg",
      "userId": "110543092444518971604"
     },
     "user_tz": -180
    },
    "id": "uA0dCjwUZ-tz",
    "outputId": "9bb7d12a-1a34-4f82-b2b3-dfa59a6a5e53"
   },
   "outputs": [
    {
     "data": {
      "text/html": [
       "<div>\n",
       "<style scoped>\n",
       "    .dataframe tbody tr th:only-of-type {\n",
       "        vertical-align: middle;\n",
       "    }\n",
       "\n",
       "    .dataframe tbody tr th {\n",
       "        vertical-align: top;\n",
       "    }\n",
       "\n",
       "    .dataframe thead th {\n",
       "        text-align: right;\n",
       "    }\n",
       "</style>\n",
       "<table border=\"1\" class=\"dataframe\">\n",
       "  <thead>\n",
       "    <tr style=\"text-align: right;\">\n",
       "      <th></th>\n",
       "      <th>season</th>\n",
       "      <th>holiday</th>\n",
       "      <th>workingday</th>\n",
       "      <th>weather</th>\n",
       "      <th>temp</th>\n",
       "      <th>atemp</th>\n",
       "      <th>humidity</th>\n",
       "      <th>windspeed</th>\n",
       "      <th>casual</th>\n",
       "      <th>registered</th>\n",
       "      <th>count</th>\n",
       "    </tr>\n",
       "    <tr>\n",
       "      <th>datetime</th>\n",
       "      <th></th>\n",
       "      <th></th>\n",
       "      <th></th>\n",
       "      <th></th>\n",
       "      <th></th>\n",
       "      <th></th>\n",
       "      <th></th>\n",
       "      <th></th>\n",
       "      <th></th>\n",
       "      <th></th>\n",
       "      <th></th>\n",
       "    </tr>\n",
       "  </thead>\n",
       "  <tbody>\n",
       "    <tr>\n",
       "      <th>2011-01-01 00:00:00</th>\n",
       "      <td>1</td>\n",
       "      <td>0</td>\n",
       "      <td>0</td>\n",
       "      <td>1</td>\n",
       "      <td>9.84</td>\n",
       "      <td>14.395</td>\n",
       "      <td>81</td>\n",
       "      <td>0.0</td>\n",
       "      <td>3</td>\n",
       "      <td>13</td>\n",
       "      <td>16</td>\n",
       "    </tr>\n",
       "    <tr>\n",
       "      <th>2011-01-01 01:00:00</th>\n",
       "      <td>1</td>\n",
       "      <td>0</td>\n",
       "      <td>0</td>\n",
       "      <td>1</td>\n",
       "      <td>9.02</td>\n",
       "      <td>13.635</td>\n",
       "      <td>80</td>\n",
       "      <td>0.0</td>\n",
       "      <td>8</td>\n",
       "      <td>32</td>\n",
       "      <td>40</td>\n",
       "    </tr>\n",
       "    <tr>\n",
       "      <th>2011-01-01 02:00:00</th>\n",
       "      <td>1</td>\n",
       "      <td>0</td>\n",
       "      <td>0</td>\n",
       "      <td>1</td>\n",
       "      <td>9.02</td>\n",
       "      <td>13.635</td>\n",
       "      <td>80</td>\n",
       "      <td>0.0</td>\n",
       "      <td>5</td>\n",
       "      <td>27</td>\n",
       "      <td>32</td>\n",
       "    </tr>\n",
       "    <tr>\n",
       "      <th>2011-01-01 03:00:00</th>\n",
       "      <td>1</td>\n",
       "      <td>0</td>\n",
       "      <td>0</td>\n",
       "      <td>1</td>\n",
       "      <td>9.84</td>\n",
       "      <td>14.395</td>\n",
       "      <td>75</td>\n",
       "      <td>0.0</td>\n",
       "      <td>3</td>\n",
       "      <td>10</td>\n",
       "      <td>13</td>\n",
       "    </tr>\n",
       "    <tr>\n",
       "      <th>2011-01-01 04:00:00</th>\n",
       "      <td>1</td>\n",
       "      <td>0</td>\n",
       "      <td>0</td>\n",
       "      <td>1</td>\n",
       "      <td>9.84</td>\n",
       "      <td>14.395</td>\n",
       "      <td>75</td>\n",
       "      <td>0.0</td>\n",
       "      <td>0</td>\n",
       "      <td>1</td>\n",
       "      <td>1</td>\n",
       "    </tr>\n",
       "  </tbody>\n",
       "</table>\n",
       "</div>"
      ],
      "text/plain": [
       "            season  holiday  workingday  weather  temp   atemp  humidity  \\\n",
       "datetime                                                                   \n",
       "2011-01...       1        0          0         1  9.84  14.395        81   \n",
       "2011-01...       1        0          0         1  9.02  13.635        80   \n",
       "2011-01...       1        0          0         1  9.02  13.635        80   \n",
       "2011-01...       1        0          0         1  9.84  14.395        75   \n",
       "2011-01...       1        0          0         1  9.84  14.395        75   \n",
       "\n",
       "            windspeed  casual  registered  count  \n",
       "datetime                                          \n",
       "2011-01...        0.0       3         13      16  \n",
       "2011-01...        0.0       8         32      40  \n",
       "2011-01...        0.0       5         27      32  \n",
       "2011-01...        0.0       3         10      13  \n",
       "2011-01...        0.0       0          1       1  "
      ]
     },
     "execution_count": 3,
     "metadata": {
      "tags": []
     },
     "output_type": "execute_result"
    }
   ],
   "source": [
    "data = read_csv('train.csv', parse_dates=[0], index_col=0)\n",
    "data.head()"
   ]
  },
  {
   "cell_type": "markdown",
   "metadata": {
    "colab_type": "text",
    "id": "0OBaaG9qrhEF"
   },
   "source": [
    "> **NOTE:** The data is sorted by the datetime index. Some manipulations along the way may shuffle the data, and we must be careful when that happens, because some of our conclusions are based on this sorting."
   ]
  },
  {
   "cell_type": "markdown",
   "metadata": {
    "colab_type": "text",
    "id": "QHAd4RH3r9DO"
   },
   "source": [
    "## Split the data"
   ]
  },
  {
   "cell_type": "markdown",
   "metadata": {
    "colab_type": "text",
    "id": "X0if_jPrZ-t6"
   },
   "source": [
    "Using the generic *train_test_split()* is a reasonable option, but an even better one is to use the same logic as defined by the probelm statement itself (and the available data). Since the train and test data are divided by the days of the month (*train.csv* includes the beginning of the month and *test.csv* includes the end of the month), it make sense to keep this relation."
   ]
  },
  {
   "cell_type": "code",
   "execution_count": 0,
   "metadata": {
    "colab": {
     "autoexec": {
      "startup": false,
      "wait_interval": 0
     }
    },
    "colab_type": "code",
    "id": "_yJVDn7pqpRK"
   },
   "outputs": [],
   "source": [
    "train_data = data.loc[data.index.day < 15]\n",
    "test_data = data.loc[data.index.day >= 15]"
   ]
  },
  {
   "cell_type": "markdown",
   "metadata": {
    "colab_type": "text",
    "id": "-Bcz8Rk5Z-uA"
   },
   "source": [
    "## First impression"
   ]
  },
  {
   "cell_type": "code",
   "execution_count": 5,
   "metadata": {
    "colab": {
     "autoexec": {
      "startup": false,
      "wait_interval": 0
     },
     "base_uri": "https://localhost:8080/",
     "height": 295
    },
    "colab_type": "code",
    "executionInfo": {
     "elapsed": 947,
     "status": "ok",
     "timestamp": 1533373609354,
     "user": {
      "displayName": "Amit Rappel",
      "photoUrl": "//lh5.googleusercontent.com/-Stg14jONmNc/AAAAAAAAAAI/AAAAAAAAAos/0hU6Y5dO8yk/s50-c-k-no/photo.jpg",
      "userId": "110543092444518971604"
     },
     "user_tz": -180
    },
    "id": "RE-8WZ1TZ-uB",
    "outputId": "83132f23-1e69-4595-c53a-b1c41fd0af5e"
   },
   "outputs": [
    {
     "name": "stdout",
     "output_type": "stream",
     "text": [
      "<class 'pandas.core.frame.DataFrame'>\n",
      "DatetimeIndex: 8026 entries, 2011-01-01 00:00:00 to 2012-12-14 23:00:00\n",
      "Data columns (total 11 columns):\n",
      "season        8026 non-null int64\n",
      "holiday       8026 non-null int64\n",
      "workingday    8026 non-null int64\n",
      "weather       8026 non-null int64\n",
      "temp          8026 non-null float64\n",
      "atemp         8026 non-null float64\n",
      "humidity      8026 non-null int64\n",
      "windspeed     8026 non-null float64\n",
      "casual        8026 non-null int64\n",
      "registered    8026 non-null int64\n",
      "count         8026 non-null int64\n",
      "dtypes: float64(3), int64(8)\n",
      "memory usage: 752.4 KB\n"
     ]
    }
   ],
   "source": [
    "train_data.info()"
   ]
  },
  {
   "cell_type": "code",
   "execution_count": 6,
   "metadata": {
    "colab": {
     "autoexec": {
      "startup": false,
      "wait_interval": 0
     },
     "base_uri": "https://localhost:8080/",
     "height": 386
    },
    "colab_type": "code",
    "executionInfo": {
     "elapsed": 667,
     "status": "ok",
     "timestamp": 1533373610529,
     "user": {
      "displayName": "Amit Rappel",
      "photoUrl": "//lh5.googleusercontent.com/-Stg14jONmNc/AAAAAAAAAAI/AAAAAAAAAos/0hU6Y5dO8yk/s50-c-k-no/photo.jpg",
      "userId": "110543092444518971604"
     },
     "user_tz": -180
    },
    "id": "nSZZN10XZ-uF",
    "outputId": "c9edd524-1912-41ba-e14b-a295536e5b2d"
   },
   "outputs": [
    {
     "data": {
      "text/html": [
       "<div>\n",
       "<style scoped>\n",
       "    .dataframe tbody tr th:only-of-type {\n",
       "        vertical-align: middle;\n",
       "    }\n",
       "\n",
       "    .dataframe tbody tr th {\n",
       "        vertical-align: top;\n",
       "    }\n",
       "\n",
       "    .dataframe thead th {\n",
       "        text-align: right;\n",
       "    }\n",
       "</style>\n",
       "<table border=\"1\" class=\"dataframe\">\n",
       "  <thead>\n",
       "    <tr style=\"text-align: right;\">\n",
       "      <th></th>\n",
       "      <th>count</th>\n",
       "      <th>mean</th>\n",
       "      <th>std</th>\n",
       "      <th>min</th>\n",
       "      <th>25%</th>\n",
       "      <th>50%</th>\n",
       "      <th>75%</th>\n",
       "      <th>max</th>\n",
       "    </tr>\n",
       "  </thead>\n",
       "  <tbody>\n",
       "    <tr>\n",
       "      <th>season</th>\n",
       "      <td>8026.0</td>\n",
       "      <td>2.505607</td>\n",
       "      <td>1.116640</td>\n",
       "      <td>1.00</td>\n",
       "      <td>2.0000</td>\n",
       "      <td>3.0000</td>\n",
       "      <td>4.0000</td>\n",
       "      <td>4.0000</td>\n",
       "    </tr>\n",
       "    <tr>\n",
       "      <th>holiday</th>\n",
       "      <td>8026.0</td>\n",
       "      <td>0.026788</td>\n",
       "      <td>0.161473</td>\n",
       "      <td>0.00</td>\n",
       "      <td>0.0000</td>\n",
       "      <td>0.0000</td>\n",
       "      <td>0.0000</td>\n",
       "      <td>1.0000</td>\n",
       "    </tr>\n",
       "    <tr>\n",
       "      <th>workingday</th>\n",
       "      <td>8026.0</td>\n",
       "      <td>0.686768</td>\n",
       "      <td>0.463837</td>\n",
       "      <td>0.00</td>\n",
       "      <td>0.0000</td>\n",
       "      <td>1.0000</td>\n",
       "      <td>1.0000</td>\n",
       "      <td>1.0000</td>\n",
       "    </tr>\n",
       "    <tr>\n",
       "      <th>weather</th>\n",
       "      <td>8026.0</td>\n",
       "      <td>1.411039</td>\n",
       "      <td>0.636480</td>\n",
       "      <td>1.00</td>\n",
       "      <td>1.0000</td>\n",
       "      <td>1.0000</td>\n",
       "      <td>2.0000</td>\n",
       "      <td>4.0000</td>\n",
       "    </tr>\n",
       "    <tr>\n",
       "      <th>temp</th>\n",
       "      <td>8026.0</td>\n",
       "      <td>20.088263</td>\n",
       "      <td>8.066977</td>\n",
       "      <td>0.82</td>\n",
       "      <td>13.9400</td>\n",
       "      <td>19.6800</td>\n",
       "      <td>27.0600</td>\n",
       "      <td>41.0000</td>\n",
       "    </tr>\n",
       "    <tr>\n",
       "      <th>atemp</th>\n",
       "      <td>8026.0</td>\n",
       "      <td>23.523856</td>\n",
       "      <td>8.761372</td>\n",
       "      <td>0.76</td>\n",
       "      <td>16.6650</td>\n",
       "      <td>23.4850</td>\n",
       "      <td>31.0600</td>\n",
       "      <td>45.4550</td>\n",
       "    </tr>\n",
       "    <tr>\n",
       "      <th>humidity</th>\n",
       "      <td>8026.0</td>\n",
       "      <td>61.660478</td>\n",
       "      <td>19.648239</td>\n",
       "      <td>0.00</td>\n",
       "      <td>46.0000</td>\n",
       "      <td>61.0000</td>\n",
       "      <td>78.0000</td>\n",
       "      <td>100.0000</td>\n",
       "    </tr>\n",
       "    <tr>\n",
       "      <th>windspeed</th>\n",
       "      <td>8026.0</td>\n",
       "      <td>12.703140</td>\n",
       "      <td>8.229619</td>\n",
       "      <td>0.00</td>\n",
       "      <td>7.0015</td>\n",
       "      <td>11.0014</td>\n",
       "      <td>16.9979</td>\n",
       "      <td>56.9969</td>\n",
       "    </tr>\n",
       "    <tr>\n",
       "      <th>casual</th>\n",
       "      <td>8026.0</td>\n",
       "      <td>35.340892</td>\n",
       "      <td>48.925630</td>\n",
       "      <td>0.00</td>\n",
       "      <td>4.0000</td>\n",
       "      <td>16.0000</td>\n",
       "      <td>48.0000</td>\n",
       "      <td>362.0000</td>\n",
       "    </tr>\n",
       "    <tr>\n",
       "      <th>registered</th>\n",
       "      <td>8026.0</td>\n",
       "      <td>154.40...</td>\n",
       "      <td>150.94...</td>\n",
       "      <td>0.00</td>\n",
       "      <td>35.0000</td>\n",
       "      <td>117.0000</td>\n",
       "      <td>221.0000</td>\n",
       "      <td>886.0000</td>\n",
       "    </tr>\n",
       "    <tr>\n",
       "      <th>count</th>\n",
       "      <td>8026.0</td>\n",
       "      <td>189.74...</td>\n",
       "      <td>180.27...</td>\n",
       "      <td>1.00</td>\n",
       "      <td>41.0000</td>\n",
       "      <td>143.0000</td>\n",
       "      <td>282.0000</td>\n",
       "      <td>977.0000</td>\n",
       "    </tr>\n",
       "  </tbody>\n",
       "</table>\n",
       "</div>"
      ],
      "text/plain": [
       "             count       mean        std   min      25%       50%       75%  \\\n",
       "season      8026.0   2.505607   1.116640  1.00   2.0000    3.0000    4.0000   \n",
       "holiday     8026.0   0.026788   0.161473  0.00   0.0000    0.0000    0.0000   \n",
       "workingday  8026.0   0.686768   0.463837  0.00   0.0000    1.0000    1.0000   \n",
       "weather     8026.0   1.411039   0.636480  1.00   1.0000    1.0000    2.0000   \n",
       "temp        8026.0  20.088263   8.066977  0.82  13.9400   19.6800   27.0600   \n",
       "atemp       8026.0  23.523856   8.761372  0.76  16.6650   23.4850   31.0600   \n",
       "humidity    8026.0  61.660478  19.648239  0.00  46.0000   61.0000   78.0000   \n",
       "windspeed   8026.0  12.703140   8.229619  0.00   7.0015   11.0014   16.9979   \n",
       "casual      8026.0  35.340892  48.925630  0.00   4.0000   16.0000   48.0000   \n",
       "registered  8026.0  154.40...  150.94...  0.00  35.0000  117.0000  221.0000   \n",
       "count       8026.0  189.74...  180.27...  1.00  41.0000  143.0000  282.0000   \n",
       "\n",
       "                 max  \n",
       "season        4.0000  \n",
       "holiday       1.0000  \n",
       "workingday    1.0000  \n",
       "weather       4.0000  \n",
       "temp         41.0000  \n",
       "atemp        45.4550  \n",
       "humidity    100.0000  \n",
       "windspeed    56.9969  \n",
       "casual      362.0000  \n",
       "registered  886.0000  \n",
       "count       977.0000  "
      ]
     },
     "execution_count": 6,
     "metadata": {
      "tags": []
     },
     "output_type": "execute_result"
    }
   ],
   "source": [
    "train_data.describe().T"
   ]
  },
  {
   "cell_type": "markdown",
   "metadata": {
    "colab_type": "text",
    "id": "zXP8zP6cZ-uI"
   },
   "source": [
    "For numeric-like features:"
   ]
  },
  {
   "cell_type": "code",
   "execution_count": 7,
   "metadata": {
    "colab": {
     "autoexec": {
      "startup": false,
      "wait_interval": 0
     },
     "base_uri": "https://localhost:8080/",
     "height": 265
    },
    "colab_type": "code",
    "executionInfo": {
     "elapsed": 982,
     "status": "ok",
     "timestamp": 1533373611856,
     "user": {
      "displayName": "Amit Rappel",
      "photoUrl": "//lh5.googleusercontent.com/-Stg14jONmNc/AAAAAAAAAAI/AAAAAAAAAos/0hU6Y5dO8yk/s50-c-k-no/photo.jpg",
      "userId": "110543092444518971604"
     },
     "user_tz": -180
    },
    "id": "KOm4tFqXZ-uK",
    "outputId": "d39dd110-3287-4623-f22f-d31f3154045d"
   },
   "outputs": [
    {
     "data": {
      "image/png": "[encoded data removed]",
      "text/plain": [
       "<matplotlib.figure.Figure at 0x7f5c8fc225f8>"
      ]
     },
     "metadata": {
      "tags": []
     },
     "output_type": "display_data"
    }
   ],
   "source": [
    "ax = train_data.temp.hist(bins=100)  \n",
    "# temp / atemp / humidity / windspeed / registered / casual / count"
   ]
  },
  {
   "cell_type": "markdown",
   "metadata": {
    "colab_type": "text",
    "id": "McWGCFboZ-uN"
   },
   "source": [
    "For category-like features:"
   ]
  },
  {
   "cell_type": "code",
   "execution_count": 8,
   "metadata": {
    "colab": {
     "autoexec": {
      "startup": false,
      "wait_interval": 0
     },
     "base_uri": "https://localhost:8080/",
     "height": 261
    },
    "colab_type": "code",
    "executionInfo": {
     "elapsed": 1964,
     "status": "ok",
     "timestamp": 1533373614221,
     "user": {
      "displayName": "Amit Rappel",
      "photoUrl": "//lh5.googleusercontent.com/-Stg14jONmNc/AAAAAAAAAAI/AAAAAAAAAos/0hU6Y5dO8yk/s50-c-k-no/photo.jpg",
      "userId": "110543092444518971604"
     },
     "user_tz": -180
    },
    "id": "bAeSOcTiZ-uN",
    "outputId": "cff0ea02-4a52-4a6c-83c4-7218ec7048df"
   },
   "outputs": [
    {
     "data": {
      "image/png": "[encoded data removed]",
      "text/plain": [
       "<matplotlib.figure.Figure at 0x7f5c8db390f0>"
      ]
     },
     "metadata": {
      "tags": []
     },
     "output_type": "display_data"
    }
   ],
   "source": [
    "ax = train_data.season.value_counts().plot.bar()  \n",
    "# season / holiday / workingday / weather"
   ]
  },
  {
   "cell_type": "markdown",
   "metadata": {
    "colab_type": "text",
    "id": "yjxjhLQRZ-uR"
   },
   "source": [
    "# Preprocessing - inspection and manipulation"
   ]
  },
  {
   "cell_type": "markdown",
   "metadata": {
    "colab_type": "text",
    "id": "R4WAQLlEZ-uS"
   },
   "source": [
    "## Time-related considerations"
   ]
  },
  {
   "cell_type": "markdown",
   "metadata": {
    "colab_type": "text",
    "id": "lnXVpuPXZ-uS"
   },
   "source": [
    "We are not dealing with time-series in our course, therefore the datetime should be exploded to its significant components. We add the *weekday* feature."
   ]
  },
  {
   "cell_type": "code",
   "execution_count": 0,
   "metadata": {
    "colab": {
     "autoexec": {
      "startup": false,
      "wait_interval": 0
     }
    },
    "colab_type": "code",
    "id": "OCpC8a6VZ-uT"
   },
   "outputs": [],
   "source": [
    "def explode_dt(df):\n",
    "    df['year'] = df.index.year\n",
    "    df['month'] = df.index.month\n",
    "    # df['day'] = df.index.day  # This feels like an irrelevant info\n",
    "    df['hour'] = df.index.hour\n",
    "    df['weekday'] = df.index.weekday\n",
    "    return df"
   ]
  },
  {
   "cell_type": "code",
   "execution_count": 10,
   "metadata": {
    "colab": {
     "autoexec": {
      "startup": false,
      "wait_interval": 0
     },
     "base_uri": "https://localhost:8080/",
     "height": 233
    },
    "colab_type": "code",
    "executionInfo": {
     "elapsed": 893,
     "status": "ok",
     "timestamp": 1533373619327,
     "user": {
      "displayName": "Amit Rappel",
      "photoUrl": "//lh5.googleusercontent.com/-Stg14jONmNc/AAAAAAAAAAI/AAAAAAAAAos/0hU6Y5dO8yk/s50-c-k-no/photo.jpg",
      "userId": "110543092444518971604"
     },
     "user_tz": -180
    },
    "id": "0O-R7ZIVZ-uW",
    "outputId": "08c2cf7c-a5d2-4a1b-8712-ad19696d0c73"
   },
   "outputs": [
    {
     "data": {
      "text/html": [
       "<div>\n",
       "<style scoped>\n",
       "    .dataframe tbody tr th:only-of-type {\n",
       "        vertical-align: middle;\n",
       "    }\n",
       "\n",
       "    .dataframe tbody tr th {\n",
       "        vertical-align: top;\n",
       "    }\n",
       "\n",
       "    .dataframe thead th {\n",
       "        text-align: right;\n",
       "    }\n",
       "</style>\n",
       "<table border=\"1\" class=\"dataframe\">\n",
       "  <thead>\n",
       "    <tr style=\"text-align: right;\">\n",
       "      <th></th>\n",
       "      <th>season</th>\n",
       "      <th>holiday</th>\n",
       "      <th>workingday</th>\n",
       "      <th>weather</th>\n",
       "      <th>temp</th>\n",
       "      <th>atemp</th>\n",
       "      <th>humidity</th>\n",
       "      <th>windspeed</th>\n",
       "      <th>casual</th>\n",
       "      <th>registered</th>\n",
       "      <th>count</th>\n",
       "      <th>year</th>\n",
       "      <th>month</th>\n",
       "      <th>hour</th>\n",
       "      <th>weekday</th>\n",
       "    </tr>\n",
       "    <tr>\n",
       "      <th>datetime</th>\n",
       "      <th></th>\n",
       "      <th></th>\n",
       "      <th></th>\n",
       "      <th></th>\n",
       "      <th></th>\n",
       "      <th></th>\n",
       "      <th></th>\n",
       "      <th></th>\n",
       "      <th></th>\n",
       "      <th></th>\n",
       "      <th></th>\n",
       "      <th></th>\n",
       "      <th></th>\n",
       "      <th></th>\n",
       "      <th></th>\n",
       "    </tr>\n",
       "  </thead>\n",
       "  <tbody>\n",
       "    <tr>\n",
       "      <th>2011-01-01 00:00:00</th>\n",
       "      <td>1</td>\n",
       "      <td>0</td>\n",
       "      <td>0</td>\n",
       "      <td>1</td>\n",
       "      <td>9.84</td>\n",
       "      <td>14.395</td>\n",
       "      <td>81</td>\n",
       "      <td>0.0</td>\n",
       "      <td>3</td>\n",
       "      <td>13</td>\n",
       "      <td>16</td>\n",
       "      <td>2011</td>\n",
       "      <td>1</td>\n",
       "      <td>0</td>\n",
       "      <td>5</td>\n",
       "    </tr>\n",
       "    <tr>\n",
       "      <th>2011-01-01 01:00:00</th>\n",
       "      <td>1</td>\n",
       "      <td>0</td>\n",
       "      <td>0</td>\n",
       "      <td>1</td>\n",
       "      <td>9.02</td>\n",
       "      <td>13.635</td>\n",
       "      <td>80</td>\n",
       "      <td>0.0</td>\n",
       "      <td>8</td>\n",
       "      <td>32</td>\n",
       "      <td>40</td>\n",
       "      <td>2011</td>\n",
       "      <td>1</td>\n",
       "      <td>1</td>\n",
       "      <td>5</td>\n",
       "    </tr>\n",
       "    <tr>\n",
       "      <th>2011-01-01 02:00:00</th>\n",
       "      <td>1</td>\n",
       "      <td>0</td>\n",
       "      <td>0</td>\n",
       "      <td>1</td>\n",
       "      <td>9.02</td>\n",
       "      <td>13.635</td>\n",
       "      <td>80</td>\n",
       "      <td>0.0</td>\n",
       "      <td>5</td>\n",
       "      <td>27</td>\n",
       "      <td>32</td>\n",
       "      <td>2011</td>\n",
       "      <td>1</td>\n",
       "      <td>2</td>\n",
       "      <td>5</td>\n",
       "    </tr>\n",
       "    <tr>\n",
       "      <th>2011-01-01 03:00:00</th>\n",
       "      <td>1</td>\n",
       "      <td>0</td>\n",
       "      <td>0</td>\n",
       "      <td>1</td>\n",
       "      <td>9.84</td>\n",
       "      <td>14.395</td>\n",
       "      <td>75</td>\n",
       "      <td>0.0</td>\n",
       "      <td>3</td>\n",
       "      <td>10</td>\n",
       "      <td>13</td>\n",
       "      <td>2011</td>\n",
       "      <td>1</td>\n",
       "      <td>3</td>\n",
       "      <td>5</td>\n",
       "    </tr>\n",
       "    <tr>\n",
       "      <th>2011-01-01 04:00:00</th>\n",
       "      <td>1</td>\n",
       "      <td>0</td>\n",
       "      <td>0</td>\n",
       "      <td>1</td>\n",
       "      <td>9.84</td>\n",
       "      <td>14.395</td>\n",
       "      <td>75</td>\n",
       "      <td>0.0</td>\n",
       "      <td>0</td>\n",
       "      <td>1</td>\n",
       "      <td>1</td>\n",
       "      <td>2011</td>\n",
       "      <td>1</td>\n",
       "      <td>4</td>\n",
       "      <td>5</td>\n",
       "    </tr>\n",
       "  </tbody>\n",
       "</table>\n",
       "</div>"
      ],
      "text/plain": [
       "            season  holiday  workingday  weather  temp   atemp  humidity  \\\n",
       "datetime                                                                   \n",
       "2011-01...       1        0          0         1  9.84  14.395        81   \n",
       "2011-01...       1        0          0         1  9.02  13.635        80   \n",
       "2011-01...       1        0          0         1  9.02  13.635        80   \n",
       "2011-01...       1        0          0         1  9.84  14.395        75   \n",
       "2011-01...       1        0          0         1  9.84  14.395        75   \n",
       "\n",
       "            windspeed  casual  registered  count  year  month  hour  weekday  \n",
       "datetime                                                                      \n",
       "2011-01...        0.0       3         13      16  2011      1     0        5  \n",
       "2011-01...        0.0       8         32      40  2011      1     1        5  \n",
       "2011-01...        0.0       5         27      32  2011      1     2        5  \n",
       "2011-01...        0.0       3         10      13  2011      1     3        5  \n",
       "2011-01...        0.0       0          1       1  2011      1     4        5  "
      ]
     },
     "execution_count": 10,
     "metadata": {
      "tags": []
     },
     "output_type": "execute_result"
    }
   ],
   "source": [
    "train_data = explode_dt(train_data)\n",
    "train_data.head()"
   ]
  },
  {
   "cell_type": "markdown",
   "metadata": {
    "colab_type": "text",
    "id": "F2opGLKTZ-ub"
   },
   "source": [
    "**Thought:** Is the *year* important?"
   ]
  },
  {
   "cell_type": "code",
   "execution_count": 11,
   "metadata": {
    "colab": {
     "autoexec": {
      "startup": false,
      "wait_interval": 0
     },
     "base_uri": "https://localhost:8080/",
     "height": 279
    },
    "colab_type": "code",
    "executionInfo": {
     "elapsed": 1062,
     "status": "ok",
     "timestamp": 1533373620669,
     "user": {
      "displayName": "Amit Rappel",
      "photoUrl": "//lh5.googleusercontent.com/-Stg14jONmNc/AAAAAAAAAAI/AAAAAAAAAos/0hU6Y5dO8yk/s50-c-k-no/photo.jpg",
      "userId": "110543092444518971604"
     },
     "user_tz": -180
    },
    "id": "0u-gFhYyZ-uc",
    "outputId": "46871205-1a06-4f62-decb-443f9e9e9831"
   },
   "outputs": [
    {
     "data": {
      "image/png": "[encoded data removed]",
      "text/plain": [
       "<matplotlib.figure.Figure at 0x7f5c8db2d978>"
      ]
     },
     "metadata": {
      "tags": []
     },
     "output_type": "display_data"
    }
   ],
   "source": [
    "ax = train_data.groupby(['hour', 'year'])[['registered', 'casual']]\\\n",
    "    .mean().unstack().plot(lw=3)"
   ]
  },
  {
   "cell_type": "markdown",
   "metadata": {
    "colab_type": "text",
    "id": "BdiXqWXsZ-uf"
   },
   "source": [
    "**Conclusion:** There is a significant increase in the number of registered users in time. This is an important observation, but in this tutorial we will ignore this effect, and instead rely on the *year* data alone, which we will convert to 0's (for 2011) and 1's (for 2012)."
   ]
  },
  {
   "cell_type": "code",
   "execution_count": 0,
   "metadata": {
    "colab": {
     "autoexec": {
      "startup": false,
      "wait_interval": 0
     }
    },
    "colab_type": "code",
    "id": "t9RrdBY5Z-ug"
   },
   "outputs": [],
   "source": [
    "train_data.year -= 2011"
   ]
  },
  {
   "cell_type": "markdown",
   "metadata": {
    "colab_type": "text",
    "id": "jYHPkJJbZ-ui"
   },
   "source": [
    "> An initial idea for how to look at the time-series data is illustrated below."
   ]
  },
  {
   "cell_type": "code",
   "execution_count": 0,
   "metadata": {
    "colab": {
     "autoexec": {
      "startup": false,
      "wait_interval": 0
     }
    },
    "colab_type": "code",
    "id": "h1wSvZudZ-uj"
   },
   "outputs": [],
   "source": [
    "# import statsmodels.api as sm\n",
    "# # Looking at rents of a specific day and hour \n",
    "# # (considering full weeks for the freq argument)\n",
    "# rents = data.loc[(data.index.day<=14) & (data.index.hour==14), 'count']\n",
    "# # Using the Wald decomposition algorithm\n",
    "# decomposed = sm.tsa.seasonal_decompose(rents, model='additive',\n",
    "#                                        freq=7, two_sided=False).plot()"
   ]
  },
  {
   "cell_type": "markdown",
   "metadata": {
    "colab_type": "text",
    "id": "r3VBRbgIZ-um"
   },
   "source": [
    "## Continuous features"
   ]
  },
  {
   "cell_type": "markdown",
   "metadata": {
    "colab_type": "text",
    "id": "LIQ7zW53Z-um"
   },
   "source": [
    "Only 4 columns represent \"measurement\" data."
   ]
  },
  {
   "cell_type": "code",
   "execution_count": 0,
   "metadata": {
    "colab": {
     "autoexec": {
      "startup": false,
      "wait_interval": 0
     }
    },
    "colab_type": "code",
    "id": "XBe-Ax3QZ-um"
   },
   "outputs": [],
   "source": [
    "meas_cols = ['temp', 'atemp', 'humidity', 'windspeed']"
   ]
  },
  {
   "cell_type": "code",
   "execution_count": 15,
   "metadata": {
    "colab": {
     "autoexec": {
      "startup": false,
      "wait_interval": 0
     },
     "base_uri": "https://localhost:8080/",
     "height": 725
    },
    "colab_type": "code",
    "executionInfo": {
     "elapsed": 4286,
     "status": "ok",
     "timestamp": 1533373629465,
     "user": {
      "displayName": "Amit Rappel",
      "photoUrl": "//lh5.googleusercontent.com/-Stg14jONmNc/AAAAAAAAAAI/AAAAAAAAAos/0hU6Y5dO8yk/s50-c-k-no/photo.jpg",
      "userId": "110543092444518971604"
     },
     "user_tz": -180
    },
    "id": "MwdgzgGBZ-uo",
    "outputId": "0de59daf-1054-4c55-c14d-6a61157169a7"
   },
   "outputs": [
    {
     "data": {
      "image/png": "[encoded data removed]",
      "text/plain": [
       "<matplotlib.figure.Figure at 0x7f5c930bf0f0>"
      ]
     },
     "metadata": {
      "tags": []
     },
     "output_type": "display_data"
    }
   ],
   "source": [
    "ax = sns.pairplot(train_data[meas_cols])"
   ]
  },
  {
   "cell_type": "markdown",
   "metadata": {
    "colab_type": "text",
    "id": "xUmDB4W6Z-ur"
   },
   "source": [
    "**Observations:**\n",
    "* Missing values in windspeed\n",
    "* Weird (linear?) relation between temp and atemp"
   ]
  },
  {
   "cell_type": "markdown",
   "metadata": {
    "colab_type": "text",
    "id": "uGxJSsYxZ-us"
   },
   "source": [
    "### Missing values in *windspeed*"
   ]
  },
  {
   "cell_type": "code",
   "execution_count": 16,
   "metadata": {
    "colab": {
     "autoexec": {
      "startup": false,
      "wait_interval": 0
     },
     "base_uri": "https://localhost:8080/",
     "height": 208
    },
    "colab_type": "code",
    "executionInfo": {
     "elapsed": 1152,
     "status": "ok",
     "timestamp": 1533373630891,
     "user": {
      "displayName": "Amit Rappel",
      "photoUrl": "//lh5.googleusercontent.com/-Stg14jONmNc/AAAAAAAAAAI/AAAAAAAAAos/0hU6Y5dO8yk/s50-c-k-no/photo.jpg",
      "userId": "110543092444518971604"
     },
     "user_tz": -180
    },
    "id": "d0C39HZ8Z-us",
    "outputId": "92bb9671-6212-449f-ca44-9af872058180"
   },
   "outputs": [
    {
     "data": {
      "text/plain": [
       "0.0000     1016\n",
       "6.0032      650\n",
       "7.0015      769\n",
       "8.9981      838\n",
       "11.0014     774\n",
       "12.9980     732\n",
       "15.0013     689\n",
       "16.9979     578\n",
       "19.0012     493\n",
       "19.9995     384\n",
       "Name: windspeed, dtype: int64"
      ]
     },
     "execution_count": 16,
     "metadata": {
      "tags": []
     },
     "output_type": "execute_result"
    }
   ],
   "source": [
    "train_data.windspeed.value_counts().sort_index().head(10)"
   ]
  },
  {
   "cell_type": "markdown",
   "metadata": {
    "colab_type": "text",
    "id": "piw23NDcZ-uw"
   },
   "source": [
    "**Observations:** \n",
    "1. The windspeed data actually has integer values. There is nothing to do with this observation...\n",
    "2. Values below 6 are missing. Next, we explore this further."
   ]
  },
  {
   "cell_type": "markdown",
   "metadata": {
    "colab_type": "text",
    "id": "FdvCLa0JZ-ux"
   },
   "source": [
    "**Discussion: How should we impute the zeroes in *windspeed*?**"
   ]
  },
  {
   "cell_type": "code",
   "execution_count": 17,
   "metadata": {
    "colab": {
     "autoexec": {
      "startup": false,
      "wait_interval": 0
     },
     "base_uri": "https://localhost:8080/",
     "height": 265
    },
    "colab_type": "code",
    "executionInfo": {
     "elapsed": 982,
     "status": "ok",
     "timestamp": 1533373632247,
     "user": {
      "displayName": "Amit Rappel",
      "photoUrl": "//lh5.googleusercontent.com/-Stg14jONmNc/AAAAAAAAAAI/AAAAAAAAAos/0hU6Y5dO8yk/s50-c-k-no/photo.jpg",
      "userId": "110543092444518971604"
     },
     "user_tz": -180
    },
    "id": "85VwbMp3Z-ux",
    "outputId": "5ba7f022-555b-4683-fed1-7d5930fbaf5c"
   },
   "outputs": [
    {
     "data": {
      "image/png": "[encoded data removed]",
      "text/plain": [
       "<matplotlib.figure.Figure at 0x7f5c8daa2080>"
      ]
     },
     "metadata": {
      "tags": []
     },
     "output_type": "display_data"
    }
   ],
   "source": [
    "ax = train_data.windspeed.hist(bins=100)"
   ]
  },
  {
   "cell_type": "markdown",
   "metadata": {
    "colab_type": "text",
    "id": "HOXXU40sZ-uz"
   },
   "source": [
    "There are 2 reasonable reasons for the (obviously problematic) 0's:\n",
    "* **Meter error** - the meter is not sensitive enough, so anything below 6 m/h is truncated to 0. If this is the case, then it could be ignored, because it is reasonable to assume cyclists are not irritated by such a low wind.\n",
    "* **System error** - we are concerned with the possibility that the missing values are at random due to some data collection problem (at the meter, at the communication, it doesn't really matter). In this case the 0's can actually stand for any value. If that's the case, then we should fix these values."
   ]
  },
  {
   "cell_type": "markdown",
   "metadata": {
    "colab_type": "text",
    "id": "YgNIvBZXZ-u0"
   },
   "source": [
    "> **Note:** Another option is to drop records with 0 *windspeed*, but since it is a very common value, this is probably not a good idea."
   ]
  },
  {
   "cell_type": "markdown",
   "metadata": {
    "colab_type": "text",
    "id": "spx8hYV6Z-u1"
   },
   "source": [
    "**Thought:** The behaviour of the 0's over time would give us a hint about their nature."
   ]
  },
  {
   "cell_type": "code",
   "execution_count": 18,
   "metadata": {
    "colab": {
     "autoexec": {
      "startup": false,
      "wait_interval": 0
     },
     "base_uri": "https://localhost:8080/",
     "height": 227
    },
    "colab_type": "code",
    "executionInfo": {
     "elapsed": 1430,
     "status": "ok",
     "timestamp": 1533373634330,
     "user": {
      "displayName": "Amit Rappel",
      "photoUrl": "//lh5.googleusercontent.com/-Stg14jONmNc/AAAAAAAAAAI/AAAAAAAAAos/0hU6Y5dO8yk/s50-c-k-no/photo.jpg",
      "userId": "110543092444518971604"
     },
     "user_tz": -180
    },
    "id": "xUDHlDn4Z-u2",
    "outputId": "1a57af8a-98ef-4933-8545-2353af3f28d6"
   },
   "outputs": [
    {
     "data": {
      "image/png": "[encoded data removed]",
      "text/plain": [
       "<matplotlib.figure.Figure at 0x7f5c8bc75f28>"
      ]
     },
     "metadata": {
      "tags": []
     },
     "output_type": "display_data"
    }
   ],
   "source": [
    "ax = (train_data.windspeed != 0).astype(int).plot(ls=' ', marker='.', figsize=(10, 3))  \n",
    "# Try with (300, 3) for better visualization"
   ]
  },
  {
   "cell_type": "markdown",
   "metadata": {
    "colab_type": "text",
    "id": "N4ztsHXXZ-u4"
   },
   "source": [
    "**Conclusion:** It seems like the 0's in *windspeed* are **not systematic**, so it is still not clear what the reason for the missing values."
   ]
  },
  {
   "cell_type": "markdown",
   "metadata": {
    "colab_type": "text",
    "id": "t-k_u6Enpo_l"
   },
   "source": [
    "**Thought:** There are many ways for imputing the data. A reasonable imutation would be to impute each 0 with the mean of its neighbors in time. This can be done with [*rolling()*][rol].\n",
    "\n",
    "[rol]: https://pandas.pydata.org/pandas-docs/stable/generated/pandas.Series.rolling.html \"rolling() API\""
   ]
  },
  {
   "cell_type": "code",
   "execution_count": 0,
   "metadata": {
    "colab": {
     "autoexec": {
      "startup": false,
      "wait_interval": 0
     }
    },
    "colab_type": "code",
    "id": "H_1Da5uKpnR5"
   },
   "outputs": [],
   "source": [
    "windspeed_smooth = train_data.windspeed.rolling(window=5, center=True).mean()"
   ]
  },
  {
   "cell_type": "markdown",
   "metadata": {
    "colab_type": "text",
    "id": "bRVlE4aN16dE"
   },
   "source": [
    "**Illustration:** Let's plot the original and the smoothed *windspeed* for a short period (otherwise the data is too dense)."
   ]
  },
  {
   "cell_type": "code",
   "execution_count": 20,
   "metadata": {
    "colab": {
     "autoexec": {
      "startup": false,
      "wait_interval": 0
     },
     "base_uri": "https://localhost:8080/",
     "height": 303
    },
    "colab_type": "code",
    "executionInfo": {
     "elapsed": 1054,
     "status": "ok",
     "timestamp": 1533373638086,
     "user": {
      "displayName": "Amit Rappel",
      "photoUrl": "//lh5.googleusercontent.com/-Stg14jONmNc/AAAAAAAAAAI/AAAAAAAAAos/0hU6Y5dO8yk/s50-c-k-no/photo.jpg",
      "userId": "110543092444518971604"
     },
     "user_tz": -180
    },
    "id": "96BfM-VNz2wC",
    "outputId": "aab086ce-f825-4e46-bffe-50776fa5ba71"
   },
   "outputs": [
    {
     "data": {
      "image/png": "[encoded data removed]",
      "text/plain": [
       "<matplotlib.figure.Figure at 0x7f5c8bb8f128>"
      ]
     },
     "metadata": {
      "tags": []
     },
     "output_type": "display_data"
    }
   ],
   "source": [
    "windspeed_compare = pd.DataFrame({'original': train_data.windspeed, \n",
    "                                  'smoothed': windspeed_smooth},\n",
    "                                 index=train_data.index)\n",
    "interval_inds = train_data.index.to_series()\\\n",
    "    .between('2012-06-01 00:00:00','2012-06-05 23:00:00')\n",
    "ax = windspeed_compare.loc[interval_inds].plot()"
   ]
  },
  {
   "cell_type": "markdown",
   "metadata": {
    "colab_type": "text",
    "id": "2colr0tY2kLm"
   },
   "source": [
    "This imputation looks reasonable, so we use it."
   ]
  },
  {
   "cell_type": "code",
   "execution_count": 0,
   "metadata": {
    "colab": {
     "autoexec": {
      "startup": false,
      "wait_interval": 0
     }
    },
    "colab_type": "code",
    "id": "cshULQK32rCl"
   },
   "outputs": [],
   "source": [
    "train_data.loc[:, 'windspeed'] = windspeed_smooth"
   ]
  },
  {
   "cell_type": "markdown",
   "metadata": {
    "colab_type": "text",
    "id": "gL9an_SA5MnG"
   },
   "source": [
    "**NOTE:** The rolling window has left 4 *NA*s in our data (2 at the beginning and 2 at the end). We will simply remove these records."
   ]
  },
  {
   "cell_type": "code",
   "execution_count": 0,
   "metadata": {
    "colab": {
     "autoexec": {
      "startup": false,
      "wait_interval": 0
     }
    },
    "colab_type": "code",
    "id": "HgE4WwR15MAN"
   },
   "outputs": [],
   "source": [
    "train_data = train_data[train_data.windspeed.notnull()]"
   ]
  },
  {
   "cell_type": "markdown",
   "metadata": {
    "colab_type": "text",
    "id": "p1LjA2IFZ-u5"
   },
   "source": [
    "> **NOTE:** A different, yet very powerful and common approach, is to impute using a regressor that learns from the non-missing data. A simple example using random forest regressor is given below. Note that by the nature of this specific regressor (random forest), if you remove the 0's from the training data, you are eliminating them from the imputation result."
   ]
  },
  {
   "cell_type": "code",
   "execution_count": 0,
   "metadata": {
    "colab": {
     "autoexec": {
      "startup": false,
      "wait_interval": 0
     }
    },
    "colab_type": "code",
    "id": "7kz9yCFBZ-u6"
   },
   "outputs": [],
   "source": [
    "# relevant_cols = ['season', 'weather', 'temp', 'humidity', 'hour', 'month']\n",
    "# X_windspeed_gt0 = train_data.loc[train_data.windspeed>0, relevant_cols]\n",
    "# y_windspeed_gt0 = train_data.windspeed.loc[train_data.windspeed>0]\n",
    "\n",
    "# imputer_rf = RandomForestRegressor(random_state=1234).\\\n",
    "#     fit(X_windspeed_gt0, y_windspeed_gt0)\n",
    "\n",
    "# windspeed_ = imputer_rf.predict(train_data[relevant_cols])"
   ]
  },
  {
   "cell_type": "markdown",
   "metadata": {
    "colab_type": "text",
    "id": "rXVnrocRZ-vG"
   },
   "source": [
    "> **NOTE:** The regressor not only imputed the \"missing data\", but also modified the non-missing data. We can change the entire *windspeed* data or we can impute only the \"missing values\"."
   ]
  },
  {
   "cell_type": "markdown",
   "metadata": {
    "colab_type": "text",
    "id": "Qm4DKpYoZ-vK"
   },
   "source": [
    "### temp"
   ]
  },
  {
   "cell_type": "code",
   "execution_count": 24,
   "metadata": {
    "colab": {
     "autoexec": {
      "startup": false,
      "wait_interval": 0
     },
     "base_uri": "https://localhost:8080/",
     "height": 283
    },
    "colab_type": "code",
    "executionInfo": {
     "elapsed": 915,
     "status": "ok",
     "timestamp": 1533373645942,
     "user": {
      "displayName": "Amit Rappel",
      "photoUrl": "//lh5.googleusercontent.com/-Stg14jONmNc/AAAAAAAAAAI/AAAAAAAAAos/0hU6Y5dO8yk/s50-c-k-no/photo.jpg",
      "userId": "110543092444518971604"
     },
     "user_tz": -180
    },
    "id": "cp4Sm0ArZ-vK",
    "outputId": "27095e99-a01a-48bc-810c-496200331877"
   },
   "outputs": [
    {
     "data": {
      "text/plain": [
       "<matplotlib.axes._subplots.AxesSubplot at 0x7f5c8bb03630>"
      ]
     },
     "execution_count": 24,
     "metadata": {
      "tags": []
     },
     "output_type": "execute_result"
    },
    {
     "data": {
      "image/png": "[encoded data removed]",
      "text/plain": [
       "<matplotlib.figure.Figure at 0x7f5c8bbc1dd8>"
      ]
     },
     "metadata": {
      "tags": []
     },
     "output_type": "display_data"
    }
   ],
   "source": [
    "train_data.temp.hist(bins=100)"
   ]
  },
  {
   "cell_type": "markdown",
   "metadata": {
    "colab_type": "text",
    "id": "9iK6lXOHZ-vM"
   },
   "source": [
    "**Observation:** It is interesting to see the non-standard distribution, which means long winter and summer but shorter fall and spring."
   ]
  },
  {
   "cell_type": "markdown",
   "metadata": {
    "colab_type": "text",
    "id": "FDq5t_jYZ-vM"
   },
   "source": [
    "**Conclusion:** We will drop *season*."
   ]
  },
  {
   "cell_type": "code",
   "execution_count": 0,
   "metadata": {
    "colab": {
     "autoexec": {
      "startup": false,
      "wait_interval": 0
     }
    },
    "colab_type": "code",
    "id": "aE6eaHIkZ-vN"
   },
   "outputs": [],
   "source": [
    "train_data.drop('season', axis=1, inplace=True)"
   ]
  },
  {
   "cell_type": "code",
   "execution_count": 26,
   "metadata": {
    "colab": {
     "autoexec": {
      "startup": false,
      "wait_interval": 0
     },
     "base_uri": "https://localhost:8080/",
     "height": 233
    },
    "colab_type": "code",
    "executionInfo": {
     "elapsed": 691,
     "status": "ok",
     "timestamp": 1533373649798,
     "user": {
      "displayName": "Amit Rappel",
      "photoUrl": "//lh5.googleusercontent.com/-Stg14jONmNc/AAAAAAAAAAI/AAAAAAAAAos/0hU6Y5dO8yk/s50-c-k-no/photo.jpg",
      "userId": "110543092444518971604"
     },
     "user_tz": -180
    },
    "id": "3es7dGTMZ-vP",
    "outputId": "6e53e06d-17ff-4215-faaf-34de084abbc7"
   },
   "outputs": [
    {
     "data": {
      "text/html": [
       "<div>\n",
       "<style scoped>\n",
       "    .dataframe tbody tr th:only-of-type {\n",
       "        vertical-align: middle;\n",
       "    }\n",
       "\n",
       "    .dataframe tbody tr th {\n",
       "        vertical-align: top;\n",
       "    }\n",
       "\n",
       "    .dataframe thead th {\n",
       "        text-align: right;\n",
       "    }\n",
       "</style>\n",
       "<table border=\"1\" class=\"dataframe\">\n",
       "  <thead>\n",
       "    <tr style=\"text-align: right;\">\n",
       "      <th></th>\n",
       "      <th>holiday</th>\n",
       "      <th>workingday</th>\n",
       "      <th>weather</th>\n",
       "      <th>temp</th>\n",
       "      <th>atemp</th>\n",
       "      <th>humidity</th>\n",
       "      <th>windspeed</th>\n",
       "      <th>casual</th>\n",
       "      <th>registered</th>\n",
       "      <th>count</th>\n",
       "      <th>year</th>\n",
       "      <th>month</th>\n",
       "      <th>hour</th>\n",
       "      <th>weekday</th>\n",
       "    </tr>\n",
       "    <tr>\n",
       "      <th>datetime</th>\n",
       "      <th></th>\n",
       "      <th></th>\n",
       "      <th></th>\n",
       "      <th></th>\n",
       "      <th></th>\n",
       "      <th></th>\n",
       "      <th></th>\n",
       "      <th></th>\n",
       "      <th></th>\n",
       "      <th></th>\n",
       "      <th></th>\n",
       "      <th></th>\n",
       "      <th></th>\n",
       "      <th></th>\n",
       "    </tr>\n",
       "  </thead>\n",
       "  <tbody>\n",
       "    <tr>\n",
       "      <th>2011-01-01 02:00:00</th>\n",
       "      <td>0</td>\n",
       "      <td>0</td>\n",
       "      <td>1</td>\n",
       "      <td>9.02</td>\n",
       "      <td>13.635</td>\n",
       "      <td>80</td>\n",
       "      <td>0.00000</td>\n",
       "      <td>5</td>\n",
       "      <td>27</td>\n",
       "      <td>32</td>\n",
       "      <td>0</td>\n",
       "      <td>1</td>\n",
       "      <td>2</td>\n",
       "      <td>5</td>\n",
       "    </tr>\n",
       "    <tr>\n",
       "      <th>2011-01-01 03:00:00</th>\n",
       "      <td>0</td>\n",
       "      <td>0</td>\n",
       "      <td>1</td>\n",
       "      <td>9.84</td>\n",
       "      <td>14.395</td>\n",
       "      <td>75</td>\n",
       "      <td>1.20064</td>\n",
       "      <td>3</td>\n",
       "      <td>10</td>\n",
       "      <td>13</td>\n",
       "      <td>0</td>\n",
       "      <td>1</td>\n",
       "      <td>3</td>\n",
       "      <td>5</td>\n",
       "    </tr>\n",
       "    <tr>\n",
       "      <th>2011-01-01 04:00:00</th>\n",
       "      <td>0</td>\n",
       "      <td>0</td>\n",
       "      <td>1</td>\n",
       "      <td>9.84</td>\n",
       "      <td>14.395</td>\n",
       "      <td>75</td>\n",
       "      <td>1.20064</td>\n",
       "      <td>0</td>\n",
       "      <td>1</td>\n",
       "      <td>1</td>\n",
       "      <td>0</td>\n",
       "      <td>1</td>\n",
       "      <td>4</td>\n",
       "      <td>5</td>\n",
       "    </tr>\n",
       "    <tr>\n",
       "      <th>2011-01-01 05:00:00</th>\n",
       "      <td>0</td>\n",
       "      <td>0</td>\n",
       "      <td>2</td>\n",
       "      <td>9.84</td>\n",
       "      <td>12.880</td>\n",
       "      <td>75</td>\n",
       "      <td>1.20064</td>\n",
       "      <td>0</td>\n",
       "      <td>1</td>\n",
       "      <td>1</td>\n",
       "      <td>0</td>\n",
       "      <td>1</td>\n",
       "      <td>5</td>\n",
       "      <td>5</td>\n",
       "    </tr>\n",
       "    <tr>\n",
       "      <th>2011-01-01 06:00:00</th>\n",
       "      <td>0</td>\n",
       "      <td>0</td>\n",
       "      <td>1</td>\n",
       "      <td>9.02</td>\n",
       "      <td>13.635</td>\n",
       "      <td>80</td>\n",
       "      <td>1.20064</td>\n",
       "      <td>2</td>\n",
       "      <td>0</td>\n",
       "      <td>2</td>\n",
       "      <td>0</td>\n",
       "      <td>1</td>\n",
       "      <td>6</td>\n",
       "      <td>5</td>\n",
       "    </tr>\n",
       "  </tbody>\n",
       "</table>\n",
       "</div>"
      ],
      "text/plain": [
       "            holiday  workingday  weather  temp   atemp  humidity  windspeed  \\\n",
       "datetime                                                                      \n",
       "2011-01...        0          0         1  9.02  13.635        80    0.00000   \n",
       "2011-01...        0          0         1  9.84  14.395        75    1.20064   \n",
       "2011-01...        0          0         1  9.84  14.395        75    1.20064   \n",
       "2011-01...        0          0         2  9.84  12.880        75    1.20064   \n",
       "2011-01...        0          0         1  9.02  13.635        80    1.20064   \n",
       "\n",
       "            casual  registered  count  year  month  hour  weekday  \n",
       "datetime                                                           \n",
       "2011-01...       5         27      32     0      1     2        5  \n",
       "2011-01...       3         10      13     0      1     3        5  \n",
       "2011-01...       0          1       1     0      1     4        5  \n",
       "2011-01...       0          1       1     0      1     5        5  \n",
       "2011-01...       2          0       2     0      1     6        5  "
      ]
     },
     "execution_count": 26,
     "metadata": {
      "tags": []
     },
     "output_type": "execute_result"
    }
   ],
   "source": [
    "train_data.head(5)"
   ]
  },
  {
   "cell_type": "markdown",
   "metadata": {
    "colab_type": "text",
    "id": "o-HOEBAa8TwA"
   },
   "source": [
    "> **Note:** Due to the train-test split we don't see the entire data, and possibly miss some phenomena. An example to that is a bunch of outliers in *atemp* on Aug 17th, 2012. I give here an example of processing them, in case someone wants to use a different splitting approach."
   ]
  },
  {
   "cell_type": "code",
   "execution_count": 0,
   "metadata": {
    "colab": {
     "autoexec": {
      "startup": false,
      "wait_interval": 0
     }
    },
    "colab_type": "code",
    "id": "cueZz7ZBZ-vT"
   },
   "outputs": [],
   "source": [
    "# # Visualize the outliers\n",
    "# ax = train_data.plot.scatter(x='temp', y='atemp')\n",
    "# # Zoom-in on the outliers and inspect them\n",
    "# train_data[(train_data.temp>20) & (train_data.atemp<20)].head()\n",
    "# # Removing the outliers\n",
    "# train_data = train_data[~((train_data.temp>20) & (train_data.atemp<20))]"
   ]
  },
  {
   "cell_type": "markdown",
   "metadata": {
    "colab_type": "text",
    "id": "g5CaBZphZ-va"
   },
   "source": [
    "### Weird relation between temp and atemp"
   ]
  },
  {
   "cell_type": "code",
   "execution_count": 28,
   "metadata": {
    "colab": {
     "autoexec": {
      "startup": false,
      "wait_interval": 0
     },
     "base_uri": "https://localhost:8080/",
     "height": 279
    },
    "colab_type": "code",
    "executionInfo": {
     "elapsed": 978,
     "status": "ok",
     "timestamp": 1533373653988,
     "user": {
      "displayName": "Amit Rappel",
      "photoUrl": "//lh5.googleusercontent.com/-Stg14jONmNc/AAAAAAAAAAI/AAAAAAAAAos/0hU6Y5dO8yk/s50-c-k-no/photo.jpg",
      "userId": "110543092444518971604"
     },
     "user_tz": -180
    },
    "id": "f3mDRhOyZ-vb",
    "outputId": "75c62188-7a16-4dce-a6a5-3af604f6426e"
   },
   "outputs": [
    {
     "data": {
      "image/png": "[encoded data removed]",
      "text/plain": [
       "<matplotlib.figure.Figure at 0x7f5c8bc6bd68>"
      ]
     },
     "metadata": {
      "tags": []
     },
     "output_type": "display_data"
    }
   ],
   "source": [
    "ax = train_data.plot.scatter(x='temp', y='atemp')"
   ]
  },
  {
   "cell_type": "markdown",
   "metadata": {
    "colab_type": "text",
    "id": "UlOU61xxZ-vd"
   },
   "source": [
    "**Thoughts:** It is clear that *atemp* is very similar to *temp*, but it looks rather weird... We will drop this feature..."
   ]
  },
  {
   "cell_type": "code",
   "execution_count": 0,
   "metadata": {
    "colab": {
     "autoexec": {
      "startup": false,
      "wait_interval": 0
     }
    },
    "colab_type": "code",
    "id": "ErN1oBjgZ-ve"
   },
   "outputs": [],
   "source": [
    "train_data.drop('atemp', axis=1, inplace=True)"
   ]
  },
  {
   "cell_type": "markdown",
   "metadata": {
    "colab_type": "text",
    "id": "HGhshT3mZ-vn"
   },
   "source": [
    "> **Note:** This means that our previous outlier detection was unnecessary..."
   ]
  },
  {
   "cell_type": "markdown",
   "metadata": {
    "colab_type": "text",
    "id": "NZ_SSkJjZ-vn"
   },
   "source": [
    "### Humidity"
   ]
  },
  {
   "cell_type": "code",
   "execution_count": 30,
   "metadata": {
    "colab": {
     "autoexec": {
      "startup": false,
      "wait_interval": 0
     },
     "base_uri": "https://localhost:8080/",
     "height": 259
    },
    "colab_type": "code",
    "executionInfo": {
     "elapsed": 1409,
     "status": "ok",
     "timestamp": 1533373658436,
     "user": {
      "displayName": "Amit Rappel",
      "photoUrl": "//lh5.googleusercontent.com/-Stg14jONmNc/AAAAAAAAAAI/AAAAAAAAAos/0hU6Y5dO8yk/s50-c-k-no/photo.jpg",
      "userId": "110543092444518971604"
     },
     "user_tz": -180
    },
    "id": "bUZ4xmjhZ-vn",
    "outputId": "cf34dc8a-9646-4050-b101-3b8b98fd58cd"
   },
   "outputs": [
    {
     "data": {
      "image/png": "[encoded data removed]",
      "text/plain": [
       "<matplotlib.figure.Figure at 0x7f5c8d7825c0>"
      ]
     },
     "metadata": {
      "tags": []
     },
     "output_type": "display_data"
    }
   ],
   "source": [
    "ax = train_data.plot.scatter(x='month', y='registered', \n",
    "                             c=train_data.humidity, cmap='coolwarm', s=20)"
   ]
  },
  {
   "cell_type": "markdown",
   "metadata": {
    "colab_type": "text",
    "id": "Au3_QqPBZ-vq"
   },
   "source": [
    "**Conclusion:** The humidity has very low influence for registered, but significant influence for casual cyclists (you need to change the *y* argument above in order to see that). We will keep this feature as it is."
   ]
  },
  {
   "cell_type": "markdown",
   "metadata": {
    "colab_type": "text",
    "id": "WoZcV_dfZ-vr"
   },
   "source": [
    "## Special days"
   ]
  },
  {
   "cell_type": "markdown",
   "metadata": {
    "colab_type": "text",
    "id": "CWPaVaOFZ-vr"
   },
   "source": [
    "### *workingday* and *holiday*"
   ]
  },
  {
   "cell_type": "code",
   "execution_count": 31,
   "metadata": {
    "colab": {
     "autoexec": {
      "startup": false,
      "wait_interval": 0
     },
     "base_uri": "https://localhost:8080/",
     "height": 386
    },
    "colab_type": "code",
    "executionInfo": {
     "elapsed": 706,
     "status": "ok",
     "timestamp": 1533373659806,
     "user": {
      "displayName": "Amit Rappel",
      "photoUrl": "//lh5.googleusercontent.com/-Stg14jONmNc/AAAAAAAAAAI/AAAAAAAAAos/0hU6Y5dO8yk/s50-c-k-no/photo.jpg",
      "userId": "110543092444518971604"
     },
     "user_tz": -180
    },
    "id": "nzMW9PCtZ-vr",
    "outputId": "b39b56c6-c5d6-44be-a9a5-8f4a23ee6a42"
   },
   "outputs": [
    {
     "data": {
      "text/html": [
       "<div>\n",
       "<style scoped>\n",
       "    .dataframe tbody tr th:only-of-type {\n",
       "        vertical-align: middle;\n",
       "    }\n",
       "\n",
       "    .dataframe tbody tr th {\n",
       "        vertical-align: top;\n",
       "    }\n",
       "\n",
       "    .dataframe thead th {\n",
       "        text-align: right;\n",
       "    }\n",
       "</style>\n",
       "<table border=\"1\" class=\"dataframe\">\n",
       "  <thead>\n",
       "    <tr style=\"text-align: right;\">\n",
       "      <th></th>\n",
       "      <th></th>\n",
       "      <th></th>\n",
       "      <th>registered</th>\n",
       "      <th>casual</th>\n",
       "    </tr>\n",
       "    <tr>\n",
       "      <th>workingday</th>\n",
       "      <th>holiday</th>\n",
       "      <th>weekday</th>\n",
       "      <th></th>\n",
       "      <th></th>\n",
       "    </tr>\n",
       "  </thead>\n",
       "  <tbody>\n",
       "    <tr>\n",
       "      <th rowspan=\"5\" valign=\"top\">0</th>\n",
       "      <th rowspan=\"2\" valign=\"top\">0</th>\n",
       "      <th>5</th>\n",
       "      <td>106.5</td>\n",
       "      <td>28.0</td>\n",
       "    </tr>\n",
       "    <tr>\n",
       "      <th>6</th>\n",
       "      <td>89.0</td>\n",
       "      <td>24.0</td>\n",
       "    </tr>\n",
       "    <tr>\n",
       "      <th rowspan=\"3\" valign=\"top\">1</th>\n",
       "      <th>0</th>\n",
       "      <td>123.0</td>\n",
       "      <td>31.0</td>\n",
       "    </tr>\n",
       "    <tr>\n",
       "      <th>2</th>\n",
       "      <td>239.5</td>\n",
       "      <td>149.0</td>\n",
       "    </tr>\n",
       "    <tr>\n",
       "      <th>4</th>\n",
       "      <td>133.0</td>\n",
       "      <td>12.5</td>\n",
       "    </tr>\n",
       "    <tr>\n",
       "      <th rowspan=\"5\" valign=\"top\">1</th>\n",
       "      <th rowspan=\"5\" valign=\"top\">0</th>\n",
       "      <th>0</th>\n",
       "      <td>116.0</td>\n",
       "      <td>13.0</td>\n",
       "    </tr>\n",
       "    <tr>\n",
       "      <th>1</th>\n",
       "      <td>119.5</td>\n",
       "      <td>12.0</td>\n",
       "    </tr>\n",
       "    <tr>\n",
       "      <th>2</th>\n",
       "      <td>119.0</td>\n",
       "      <td>11.0</td>\n",
       "    </tr>\n",
       "    <tr>\n",
       "      <th>3</th>\n",
       "      <td>133.0</td>\n",
       "      <td>12.0</td>\n",
       "    </tr>\n",
       "    <tr>\n",
       "      <th>4</th>\n",
       "      <td>137.5</td>\n",
       "      <td>16.0</td>\n",
       "    </tr>\n",
       "  </tbody>\n",
       "</table>\n",
       "</div>"
      ],
      "text/plain": [
       "                            registered  casual\n",
       "workingday holiday weekday                    \n",
       "0          0       5            106.5     28.0\n",
       "                   6             89.0     24.0\n",
       "           1       0            123.0     31.0\n",
       "                   2            239.5    149.0\n",
       "                   4            133.0     12.5\n",
       "1          0       0            116.0     13.0\n",
       "                   1            119.5     12.0\n",
       "                   2            119.0     11.0\n",
       "                   3            133.0     12.0\n",
       "                   4            137.5     16.0"
      ]
     },
     "execution_count": 31,
     "metadata": {
      "tags": []
     },
     "output_type": "execute_result"
    }
   ],
   "source": [
    "train_data.groupby(['workingday', 'holiday', 'weekday'])\\\n",
    "    ['registered', 'casual'].median()"
   ]
  },
  {
   "cell_type": "markdown",
   "metadata": {
    "colab_type": "text",
    "id": "Oj57ziyDZ-vu"
   },
   "source": [
    "**Conclusion**: The days are workingday / weekends / holiday. In the US there are no religious holidays, so they are mutually exclusive."
   ]
  },
  {
   "cell_type": "markdown",
   "metadata": {
    "colab_type": "text",
    "id": "_dPQt7PgZ-vv"
   },
   "source": [
    "**Alert:** What is going on with holidays on Monday?"
   ]
  },
  {
   "cell_type": "code",
   "execution_count": 32,
   "metadata": {
    "colab": {
     "autoexec": {
      "startup": false,
      "wait_interval": 0
     },
     "base_uri": "https://localhost:8080/",
     "height": 139
    },
    "colab_type": "code",
    "executionInfo": {
     "elapsed": 1396,
     "status": "ok",
     "timestamp": 1533373662403,
     "user": {
      "displayName": "Amit Rappel",
      "photoUrl": "//lh5.googleusercontent.com/-Stg14jONmNc/AAAAAAAAAAI/AAAAAAAAAos/0hU6Y5dO8yk/s50-c-k-no/photo.jpg",
      "userId": "110543092444518971604"
     },
     "user_tz": -180
    },
    "id": "8XPYj2mOZ-vv",
    "outputId": "558c4340-c6fe-4b14-b4c4-f849f2de9799"
   },
   "outputs": [
    {
     "data": {
      "text/plain": [
       "datetime\n",
       "2012-07-04 00:00:00    19\n",
       "2012-07-04 01:00:00    27\n",
       "2012-07-04 02:00:00    27\n",
       "2012-07-04 03:00:00     9\n",
       "2012-07-04 04:00:00     5\n",
       "Name: casual, dtype: int64"
      ]
     },
     "execution_count": 32,
     "metadata": {
      "tags": []
     },
     "output_type": "execute_result"
    }
   ],
   "source": [
    "holy_mondays_ind = (train_data.workingday==0) & (train_data.weekday==2)\n",
    "train_data.loc[holy_mondays_ind, 'casual'].head()"
   ]
  },
  {
   "cell_type": "markdown",
   "metadata": {
    "colab_type": "text",
    "id": "dwD1TTcOZ-vz"
   },
   "source": [
    "**Conclusion:** This data is made of outliers due to 4th of July (USA independence day), so we remove it from the **training** data."
   ]
  },
  {
   "cell_type": "code",
   "execution_count": 0,
   "metadata": {
    "colab": {
     "autoexec": {
      "startup": false,
      "wait_interval": 0
     }
    },
    "colab_type": "code",
    "id": "wwAu4cwwZ-vz"
   },
   "outputs": [],
   "source": [
    "july4th_ind = train_data.index.to_series()\\\n",
    "    .between('2012-07-04 00:00:00','2012-07-04 23:00:00')\n",
    "train_data = train_data.loc[~july4th_ind]"
   ]
  },
  {
   "cell_type": "markdown",
   "metadata": {
    "colab_type": "text",
    "id": "zHNHaejKZ-v1"
   },
   "source": [
    "**Thought:** Should we separate holiday & weekend? We will assume NOT for this analysis, so we drop *holiday*."
   ]
  },
  {
   "cell_type": "code",
   "execution_count": 0,
   "metadata": {
    "colab": {
     "autoexec": {
      "startup": false,
      "wait_interval": 0
     }
    },
    "colab_type": "code",
    "id": "X_VF1LLVZ-v1"
   },
   "outputs": [],
   "source": [
    "train_data.drop('holiday', axis=1, inplace=True)"
   ]
  },
  {
   "cell_type": "markdown",
   "metadata": {
    "colab_type": "text",
    "id": "YxhCRVP-Z-v3"
   },
   "source": [
    "### Working days"
   ]
  },
  {
   "cell_type": "code",
   "execution_count": 35,
   "metadata": {
    "colab": {
     "autoexec": {
      "startup": false,
      "wait_interval": 0
     },
     "base_uri": "https://localhost:8080/",
     "height": 279
    },
    "colab_type": "code",
    "executionInfo": {
     "elapsed": 1074,
     "status": "ok",
     "timestamp": 1533373668117,
     "user": {
      "displayName": "Amit Rappel",
      "photoUrl": "//lh5.googleusercontent.com/-Stg14jONmNc/AAAAAAAAAAI/AAAAAAAAAos/0hU6Y5dO8yk/s50-c-k-no/photo.jpg",
      "userId": "110543092444518971604"
     },
     "user_tz": -180
    },
    "id": "TsgNJ0qzZ-v3",
    "outputId": "8311e2ec-8a36-4492-a36e-c9da5d08cfae"
   },
   "outputs": [
    {
     "data": {
      "image/png": "[encoded data removed]",
      "text/plain": [
       "<matplotlib.figure.Figure at 0x7f5c8fcf8898>"
      ]
     },
     "metadata": {
      "tags": []
     },
     "output_type": "display_data"
    }
   ],
   "source": [
    "ax = train_data.groupby(['workingday', 'hour'])[['registered', 'casual']]\\\n",
    "    .mean().unstack(0).plot()"
   ]
  },
  {
   "cell_type": "markdown",
   "metadata": {
    "colab_type": "text",
    "id": "GMgE-e6bZ-v7"
   },
   "source": [
    "> **NOTE:** It is very important to notice the impact of *weekday* on the registered users. Compare the plot above with the one below, which does not groupby *weekday* (code below)."
   ]
  },
  {
   "cell_type": "code",
   "execution_count": 0,
   "metadata": {
    "colab": {
     "autoexec": {
      "startup": false,
      "wait_interval": 0
     }
    },
    "colab_type": "code",
    "id": "EEf0bEYxZ-v8"
   },
   "outputs": [],
   "source": [
    "# ax = train_data.groupby('hour')[['registered', 'casual']]\\\n",
    "#     .mean().plot()"
   ]
  },
  {
   "cell_type": "markdown",
   "metadata": {
    "colab_type": "text",
    "id": "vdSFEOX3Z-v-"
   },
   "source": [
    "**Observation:** Registered and casual users behave very differently in terms of workingday and hour. On working days, registered users rent bike in the rush hours (getting to and from work), but less during working hours, while on weekends everyone is biking during the day."
   ]
  },
  {
   "cell_type": "code",
   "execution_count": 0,
   "metadata": {
    "colab": {
     "autoexec": {
      "startup": false,
      "wait_interval": 0
     }
    },
    "colab_type": "code",
    "id": "yGllUh7uHnxP"
   },
   "outputs": [],
   "source": []
  },
  {
   "cell_type": "markdown",
   "metadata": {
    "colab_type": "text",
    "id": "D8myobr5IBjf"
   },
   "source": [
    "Let's see the impact of *weekday*."
   ]
  },
  {
   "cell_type": "code",
   "execution_count": 37,
   "metadata": {
    "colab": {
     "autoexec": {
      "startup": false,
      "wait_interval": 0
     },
     "base_uri": "https://localhost:8080/",
     "height": 279
    },
    "colab_type": "code",
    "executionInfo": {
     "elapsed": 976,
     "status": "ok",
     "timestamp": 1533373674024,
     "user": {
      "displayName": "Amit Rappel",
      "photoUrl": "//lh5.googleusercontent.com/-Stg14jONmNc/AAAAAAAAAAI/AAAAAAAAAos/0hU6Y5dO8yk/s50-c-k-no/photo.jpg",
      "userId": "110543092444518971604"
     },
     "user_tz": -180
    },
    "id": "FzUbtYXsZ-v_",
    "outputId": "ae8e776e-0de6-434b-f9ee-9a12a6a672cf"
   },
   "outputs": [
    {
     "data": {
      "image/png": "[encoded data removed]",
      "text/plain": [
       "<matplotlib.figure.Figure at 0x7f5c8bbc17b8>"
      ]
     },
     "metadata": {
      "tags": []
     },
     "output_type": "display_data"
    }
   ],
   "source": [
    "ax = train_data.groupby(['weekday', 'hour'])[['registered']]\\\n",
    "    .mean().unstack(0).plot()"
   ]
  },
  {
   "cell_type": "markdown",
   "metadata": {
    "colab_type": "text",
    "id": "3AOjK3MFZ-wB"
   },
   "source": [
    "**Thought:** It looks like the actual weekday is not very important, besides the question whether it is a weekend or not. Since this information is already captured by the workingday columns, we decide to drop the weekday column."
   ]
  },
  {
   "cell_type": "code",
   "execution_count": 0,
   "metadata": {
    "colab": {
     "autoexec": {
      "startup": false,
      "wait_interval": 0
     }
    },
    "colab_type": "code",
    "id": "PTR_8Y4hZ-wC"
   },
   "outputs": [],
   "source": [
    "train_data.drop('weekday', axis=1, inplace=True)"
   ]
  },
  {
   "cell_type": "markdown",
   "metadata": {
    "colab_type": "text",
    "id": "GuULHW1cZ-wE"
   },
   "source": [
    "**<font color=red>Important Conclusion:</font>** We should make 4 different models for workingday/non-workingday and for registered/casual. We also note that some features should be dealt differently for different models (at least *hour*)."
   ]
  },
  {
   "cell_type": "markdown",
   "metadata": {
    "colab_type": "text",
    "id": "nGllpDLZIhus"
   },
   "source": [
    "> **NOTE:** *weekday* does have some influence on the casuals, so perhaps it is better to drop this data only for the registered users. We will ignore this option in this tutorial and drop *weekday* for all models."
   ]
  },
  {
   "cell_type": "markdown",
   "metadata": {
    "colab_type": "text",
    "id": "mM_thhpHZ-wE"
   },
   "source": [
    "## Categorical features"
   ]
  },
  {
   "cell_type": "markdown",
   "metadata": {
    "colab_type": "text",
    "id": "KZHfJz3nZ-wF"
   },
   "source": [
    "The features *weather*, *month* and *hour* are basically categorical, and their processing depends on the chosen model."
   ]
  },
  {
   "cell_type": "code",
   "execution_count": 39,
   "metadata": {
    "colab": {
     "autoexec": {
      "startup": false,
      "wait_interval": 0
     },
     "base_uri": "https://localhost:8080/",
     "height": 315
    },
    "colab_type": "code",
    "executionInfo": {
     "elapsed": 1278,
     "status": "ok",
     "timestamp": 1533373678370,
     "user": {
      "displayName": "Amit Rappel",
      "photoUrl": "//lh5.googleusercontent.com/-Stg14jONmNc/AAAAAAAAAAI/AAAAAAAAAos/0hU6Y5dO8yk/s50-c-k-no/photo.jpg",
      "userId": "110543092444518971604"
     },
     "user_tz": -180
    },
    "id": "FWpJ8JPjZ-wG",
    "outputId": "1cb7136d-05d5-42cb-8995-7bacf309d8d7"
   },
   "outputs": [
    {
     "data": {
      "text/plain": [
       "<matplotlib.axes._subplots.AxesSubplot at 0x7f5c8d520160>"
      ]
     },
     "execution_count": 39,
     "metadata": {
      "tags": []
     },
     "output_type": "execute_result"
    },
    {
     "data": {
      "image/png": "[encoded data removed]",
      "text/plain": [
       "<matplotlib.figure.Figure at 0x7f5c8fca5518>"
      ]
     },
     "metadata": {
      "tags": []
     },
     "output_type": "display_data"
    }
   ],
   "source": [
    "fig, axes = plt.subplots(2, 2, tight_layout=True);\n",
    "train_data.groupby(['hour', 'month'])['registered']\\\n",
    "    .mean().unstack().plot(ax=axes[0][0], legend=None)\n",
    "train_data.groupby(['hour', 'weather'])['registered']\\\n",
    "    .mean().unstack().plot(ax=axes[1][0], legend=None)\n",
    "train_data.groupby(['hour', 'month'])['casual']\\\n",
    "    .mean().unstack().plot(ax=axes[0][1], legend=None)\n",
    "train_data.groupby(['hour', 'weather'])['casual']\\\n",
    "    .mean().unstack().plot(ax=axes[1][1], legend=None)"
   ]
  },
  {
   "cell_type": "markdown",
   "metadata": {
    "colab_type": "text",
    "id": "1CduBVPaZ-wJ"
   },
   "source": [
    "**Alert:** The *weather* data should have 4 lines, but has only 3..."
   ]
  },
  {
   "cell_type": "code",
   "execution_count": 40,
   "metadata": {
    "colab": {
     "autoexec": {
      "startup": false,
      "wait_interval": 0
     },
     "base_uri": "https://localhost:8080/",
     "height": 104
    },
    "colab_type": "code",
    "executionInfo": {
     "elapsed": 709,
     "status": "ok",
     "timestamp": 1533373679868,
     "user": {
      "displayName": "Amit Rappel",
      "photoUrl": "//lh5.googleusercontent.com/-Stg14jONmNc/AAAAAAAAAAI/AAAAAAAAAos/0hU6Y5dO8yk/s50-c-k-no/photo.jpg",
      "userId": "110543092444518971604"
     },
     "user_tz": -180
    },
    "id": "AQYTMxXNZ-wK",
    "outputId": "ea0285d8-c91e-49c5-8cfc-2880dd864509"
   },
   "outputs": [
    {
     "data": {
      "text/plain": [
       "1    5353\n",
       "2    1993\n",
       "3     651\n",
       "4       1\n",
       "Name: weather, dtype: int64"
      ]
     },
     "execution_count": 40,
     "metadata": {
      "tags": []
     },
     "output_type": "execute_result"
    }
   ],
   "source": [
    "train_data.weather.value_counts()"
   ]
  },
  {
   "cell_type": "markdown",
   "metadata": {
    "colab_type": "text",
    "id": "SKCZ519JZ-wM"
   },
   "source": [
    "**Thought:** weather 4 is very rare, so we replace it with 3..."
   ]
  },
  {
   "cell_type": "markdown",
   "metadata": {
    "colab_type": "text",
    "id": "6C5-FJbcI8Rd"
   },
   "source": [
    "> **NOTE:** This is another example where the train data may miss potential values in the data. This may cause problems when applying the model to test data, which includes such values."
   ]
  },
  {
   "cell_type": "code",
   "execution_count": 0,
   "metadata": {
    "colab": {
     "autoexec": {
      "startup": false,
      "wait_interval": 0
     }
    },
    "colab_type": "code",
    "id": "VNSTqCtkZ-wN"
   },
   "outputs": [],
   "source": [
    "train_data.loc[train_data.weather==4, 'weather'] = 3"
   ]
  },
  {
   "cell_type": "code",
   "execution_count": 42,
   "metadata": {
    "colab": {
     "autoexec": {
      "startup": false,
      "wait_interval": 0
     },
     "base_uri": "https://localhost:8080/",
     "height": 233
    },
    "colab_type": "code",
    "executionInfo": {
     "elapsed": 654,
     "status": "ok",
     "timestamp": 1533373683698,
     "user": {
      "displayName": "Amit Rappel",
      "photoUrl": "//lh5.googleusercontent.com/-Stg14jONmNc/AAAAAAAAAAI/AAAAAAAAAos/0hU6Y5dO8yk/s50-c-k-no/photo.jpg",
      "userId": "110543092444518971604"
     },
     "user_tz": -180
    },
    "id": "uENCzVsFZ-wQ",
    "outputId": "a14a2bb6-fb48-496c-9380-d1f4e9bd7480"
   },
   "outputs": [
    {
     "data": {
      "text/html": [
       "<div>\n",
       "<style scoped>\n",
       "    .dataframe tbody tr th:only-of-type {\n",
       "        vertical-align: middle;\n",
       "    }\n",
       "\n",
       "    .dataframe tbody tr th {\n",
       "        vertical-align: top;\n",
       "    }\n",
       "\n",
       "    .dataframe thead th {\n",
       "        text-align: right;\n",
       "    }\n",
       "</style>\n",
       "<table border=\"1\" class=\"dataframe\">\n",
       "  <thead>\n",
       "    <tr style=\"text-align: right;\">\n",
       "      <th></th>\n",
       "      <th>workingday</th>\n",
       "      <th>weather</th>\n",
       "      <th>temp</th>\n",
       "      <th>humidity</th>\n",
       "      <th>windspeed</th>\n",
       "      <th>casual</th>\n",
       "      <th>registered</th>\n",
       "      <th>count</th>\n",
       "      <th>year</th>\n",
       "      <th>month</th>\n",
       "      <th>hour</th>\n",
       "    </tr>\n",
       "    <tr>\n",
       "      <th>datetime</th>\n",
       "      <th></th>\n",
       "      <th></th>\n",
       "      <th></th>\n",
       "      <th></th>\n",
       "      <th></th>\n",
       "      <th></th>\n",
       "      <th></th>\n",
       "      <th></th>\n",
       "      <th></th>\n",
       "      <th></th>\n",
       "      <th></th>\n",
       "    </tr>\n",
       "  </thead>\n",
       "  <tbody>\n",
       "    <tr>\n",
       "      <th>2011-01-01 02:00:00</th>\n",
       "      <td>0</td>\n",
       "      <td>1</td>\n",
       "      <td>9.02</td>\n",
       "      <td>80</td>\n",
       "      <td>0.00000</td>\n",
       "      <td>5</td>\n",
       "      <td>27</td>\n",
       "      <td>32</td>\n",
       "      <td>0</td>\n",
       "      <td>1</td>\n",
       "      <td>2</td>\n",
       "    </tr>\n",
       "    <tr>\n",
       "      <th>2011-01-01 03:00:00</th>\n",
       "      <td>0</td>\n",
       "      <td>1</td>\n",
       "      <td>9.84</td>\n",
       "      <td>75</td>\n",
       "      <td>1.20064</td>\n",
       "      <td>3</td>\n",
       "      <td>10</td>\n",
       "      <td>13</td>\n",
       "      <td>0</td>\n",
       "      <td>1</td>\n",
       "      <td>3</td>\n",
       "    </tr>\n",
       "    <tr>\n",
       "      <th>2011-01-01 04:00:00</th>\n",
       "      <td>0</td>\n",
       "      <td>1</td>\n",
       "      <td>9.84</td>\n",
       "      <td>75</td>\n",
       "      <td>1.20064</td>\n",
       "      <td>0</td>\n",
       "      <td>1</td>\n",
       "      <td>1</td>\n",
       "      <td>0</td>\n",
       "      <td>1</td>\n",
       "      <td>4</td>\n",
       "    </tr>\n",
       "    <tr>\n",
       "      <th>2011-01-01 05:00:00</th>\n",
       "      <td>0</td>\n",
       "      <td>2</td>\n",
       "      <td>9.84</td>\n",
       "      <td>75</td>\n",
       "      <td>1.20064</td>\n",
       "      <td>0</td>\n",
       "      <td>1</td>\n",
       "      <td>1</td>\n",
       "      <td>0</td>\n",
       "      <td>1</td>\n",
       "      <td>5</td>\n",
       "    </tr>\n",
       "    <tr>\n",
       "      <th>2011-01-01 06:00:00</th>\n",
       "      <td>0</td>\n",
       "      <td>1</td>\n",
       "      <td>9.02</td>\n",
       "      <td>80</td>\n",
       "      <td>1.20064</td>\n",
       "      <td>2</td>\n",
       "      <td>0</td>\n",
       "      <td>2</td>\n",
       "      <td>0</td>\n",
       "      <td>1</td>\n",
       "      <td>6</td>\n",
       "    </tr>\n",
       "  </tbody>\n",
       "</table>\n",
       "</div>"
      ],
      "text/plain": [
       "            workingday  weather  temp  humidity  windspeed  casual  \\\n",
       "datetime                                                             \n",
       "2011-01...          0         1  9.02        80    0.00000       5   \n",
       "2011-01...          0         1  9.84        75    1.20064       3   \n",
       "2011-01...          0         1  9.84        75    1.20064       0   \n",
       "2011-01...          0         2  9.84        75    1.20064       0   \n",
       "2011-01...          0         1  9.02        80    1.20064       2   \n",
       "\n",
       "            registered  count  year  month  hour  \n",
       "datetime                                          \n",
       "2011-01...         27      32     0      1     2  \n",
       "2011-01...         10      13     0      1     3  \n",
       "2011-01...          1       1     0      1     4  \n",
       "2011-01...          1       1     0      1     5  \n",
       "2011-01...          0       2     0      1     6  "
      ]
     },
     "execution_count": 42,
     "metadata": {
      "tags": []
     },
     "output_type": "execute_result"
    }
   ],
   "source": [
    "train_data.head()"
   ]
  },
  {
   "cell_type": "markdown",
   "metadata": {
    "colab_type": "text",
    "id": "nYc-nLqeZ-wS"
   },
   "source": [
    "# The 4 models"
   ]
  },
  {
   "cell_type": "markdown",
   "metadata": {
    "colab_type": "text",
    "id": "F7KXsXtlZ-wT"
   },
   "source": [
    "We are going to build 4 random forest regressors."
   ]
  },
  {
   "cell_type": "markdown",
   "metadata": {
    "colab_type": "text",
    "id": "urt9-EeoZ-wT"
   },
   "source": [
    "> **NOTE:** We will not train-test our 4 sub-models, but rely on cross-validation alone."
   ]
  },
  {
   "cell_type": "markdown",
   "metadata": {
    "colab_type": "text",
    "id": "lwJCm-0-Jdrb"
   },
   "source": [
    "**Alert:** In this tutorial I am constructing only a single model, and then assume it applies to all 4 datasets. I know this is wrong, but I don't have time for that."
   ]
  },
  {
   "cell_type": "markdown",
   "metadata": {
    "colab_type": "text",
    "id": "YF-mAqBSZ-wT"
   },
   "source": [
    "## Evaluation"
   ]
  },
  {
   "cell_type": "markdown",
   "metadata": {
    "colab_type": "text",
    "id": "VdSECYc2Jw0f"
   },
   "source": [
    "This competition is evaluated using the [RMSLE][rmsle] score. Since this score is not available in [Scikit-Learn built-in scorers][sks], we create it by ourselves using the [make_scorer()][ms] function.\n",
    "\n",
    "[rmsle]: https://www.slideshare.net/KhorSoonHin/rmsle-cost-function \"RMSLE explained\"\n",
    "[sks]: http://scikit-learn.org/stable/modules/model_evaluation.html#the-scoring-parameter-defining-model-evaluation-rules \"Scikit-Learn scorers\"\n",
    "[ms]: http://scikit-learn.org/stable/modules/generated/sklearn.metrics.make_scorer.html \"make_scorer() API\""
   ]
  },
  {
   "cell_type": "code",
   "execution_count": 0,
   "metadata": {
    "colab": {
     "autoexec": {
      "startup": false,
      "wait_interval": 0
     }
    },
    "colab_type": "code",
    "id": "CBa3I9CZZ-wT"
   },
   "outputs": [],
   "source": [
    "def rmsle(y, y_pred):\n",
    "    return sqrt(MSE(log1p(pd.Series(y_pred).clip_lower(0)), log1p(y)))"
   ]
  },
  {
   "cell_type": "code",
   "execution_count": 0,
   "metadata": {
    "colab": {
     "autoexec": {
      "startup": false,
      "wait_interval": 0
     }
    },
    "colab_type": "code",
    "id": "jAZhQ8KoZ-wW"
   },
   "outputs": [],
   "source": [
    "rmsle_scorer = make_scorer(rmsle, greater_is_better=False)"
   ]
  },
  {
   "cell_type": "markdown",
   "metadata": {
    "colab_type": "text",
    "id": "f8FCXcsxZ-wX"
   },
   "source": [
    "## Model \\#1 (*rw*) - Registered users on Working days"
   ]
  },
  {
   "cell_type": "code",
   "execution_count": 0,
   "metadata": {
    "colab": {
     "autoexec": {
      "startup": false,
      "wait_interval": 0
     }
    },
    "colab_type": "code",
    "id": "G0FVZIchZ-wY"
   },
   "outputs": [],
   "source": [
    "train_data_rw = train_data.loc[train_data.workingday==1]\\\n",
    "    .drop(['count', 'casual', 'workingday'], axis=1, inplace=False)"
   ]
  },
  {
   "cell_type": "code",
   "execution_count": 46,
   "metadata": {
    "colab": {
     "autoexec": {
      "startup": false,
      "wait_interval": 0
     },
     "base_uri": "https://localhost:8080/",
     "height": 233
    },
    "colab_type": "code",
    "executionInfo": {
     "elapsed": 645,
     "status": "ok",
     "timestamp": 1533373691664,
     "user": {
      "displayName": "Amit Rappel",
      "photoUrl": "//lh5.googleusercontent.com/-Stg14jONmNc/AAAAAAAAAAI/AAAAAAAAAos/0hU6Y5dO8yk/s50-c-k-no/photo.jpg",
      "userId": "110543092444518971604"
     },
     "user_tz": -180
    },
    "id": "A4LT3l2EZ-wZ",
    "outputId": "6ae8d3b5-a122-42d7-9a2b-b85251bac30e"
   },
   "outputs": [
    {
     "data": {
      "text/html": [
       "<div>\n",
       "<style scoped>\n",
       "    .dataframe tbody tr th:only-of-type {\n",
       "        vertical-align: middle;\n",
       "    }\n",
       "\n",
       "    .dataframe tbody tr th {\n",
       "        vertical-align: top;\n",
       "    }\n",
       "\n",
       "    .dataframe thead th {\n",
       "        text-align: right;\n",
       "    }\n",
       "</style>\n",
       "<table border=\"1\" class=\"dataframe\">\n",
       "  <thead>\n",
       "    <tr style=\"text-align: right;\">\n",
       "      <th></th>\n",
       "      <th>weather</th>\n",
       "      <th>temp</th>\n",
       "      <th>humidity</th>\n",
       "      <th>windspeed</th>\n",
       "      <th>registered</th>\n",
       "      <th>year</th>\n",
       "      <th>month</th>\n",
       "      <th>hour</th>\n",
       "    </tr>\n",
       "    <tr>\n",
       "      <th>datetime</th>\n",
       "      <th></th>\n",
       "      <th></th>\n",
       "      <th></th>\n",
       "      <th></th>\n",
       "      <th></th>\n",
       "      <th></th>\n",
       "      <th></th>\n",
       "      <th></th>\n",
       "    </tr>\n",
       "  </thead>\n",
       "  <tbody>\n",
       "    <tr>\n",
       "      <th>2011-01-03 00:00:00</th>\n",
       "      <td>1</td>\n",
       "      <td>9.02</td>\n",
       "      <td>44</td>\n",
       "      <td>21.80046</td>\n",
       "      <td>5</td>\n",
       "      <td>0</td>\n",
       "      <td>1</td>\n",
       "      <td>0</td>\n",
       "    </tr>\n",
       "    <tr>\n",
       "      <th>2011-01-03 01:00:00</th>\n",
       "      <td>1</td>\n",
       "      <td>8.20</td>\n",
       "      <td>44</td>\n",
       "      <td>21.60080</td>\n",
       "      <td>2</td>\n",
       "      <td>0</td>\n",
       "      <td>1</td>\n",
       "      <td>1</td>\n",
       "    </tr>\n",
       "    <tr>\n",
       "      <th>2011-01-03 04:00:00</th>\n",
       "      <td>1</td>\n",
       "      <td>6.56</td>\n",
       "      <td>47</td>\n",
       "      <td>24.60106</td>\n",
       "      <td>1</td>\n",
       "      <td>0</td>\n",
       "      <td>1</td>\n",
       "      <td>4</td>\n",
       "    </tr>\n",
       "    <tr>\n",
       "      <th>2011-01-03 05:00:00</th>\n",
       "      <td>1</td>\n",
       "      <td>6.56</td>\n",
       "      <td>47</td>\n",
       "      <td>22.40078</td>\n",
       "      <td>3</td>\n",
       "      <td>0</td>\n",
       "      <td>1</td>\n",
       "      <td>5</td>\n",
       "    </tr>\n",
       "    <tr>\n",
       "      <th>2011-01-03 06:00:00</th>\n",
       "      <td>1</td>\n",
       "      <td>5.74</td>\n",
       "      <td>50</td>\n",
       "      <td>20.60116</td>\n",
       "      <td>30</td>\n",
       "      <td>0</td>\n",
       "      <td>1</td>\n",
       "      <td>6</td>\n",
       "    </tr>\n",
       "  </tbody>\n",
       "</table>\n",
       "</div>"
      ],
      "text/plain": [
       "            weather  temp  humidity  windspeed  registered  year  month  hour\n",
       "datetime                                                                     \n",
       "2011-01...        1  9.02        44   21.80046          5      0      1     0\n",
       "2011-01...        1  8.20        44   21.60080          2      0      1     1\n",
       "2011-01...        1  6.56        47   24.60106          1      0      1     4\n",
       "2011-01...        1  6.56        47   22.40078          3      0      1     5\n",
       "2011-01...        1  5.74        50   20.60116         30      0      1     6"
      ]
     },
     "execution_count": 46,
     "metadata": {
      "tags": []
     },
     "output_type": "execute_result"
    }
   ],
   "source": [
    "train_data_rw.head()"
   ]
  },
  {
   "cell_type": "code",
   "execution_count": 47,
   "metadata": {
    "colab": {
     "autoexec": {
      "startup": false,
      "wait_interval": 0
     },
     "base_uri": "https://localhost:8080/",
     "height": 279
    },
    "colab_type": "code",
    "executionInfo": {
     "elapsed": 915,
     "status": "ok",
     "timestamp": 1533373694038,
     "user": {
      "displayName": "Amit Rappel",
      "photoUrl": "//lh5.googleusercontent.com/-Stg14jONmNc/AAAAAAAAAAI/AAAAAAAAAos/0hU6Y5dO8yk/s50-c-k-no/photo.jpg",
      "userId": "110543092444518971604"
     },
     "user_tz": -180
    },
    "id": "q90BzyjOZ-wb",
    "outputId": "322e5916-b3d4-494e-c7b2-b63bcc3d23a5"
   },
   "outputs": [
    {
     "data": {
      "image/png": "[encoded data removed]",
      "text/plain": [
       "<matplotlib.figure.Figure at 0x7f5c8dacf4e0>"
      ]
     },
     "metadata": {
      "tags": []
     },
     "output_type": "display_data"
    }
   ],
   "source": [
    "ax = train_data_rw.groupby('hour')['registered'].mean().plot(legend=None)"
   ]
  },
  {
   "cell_type": "markdown",
   "metadata": {
    "colab_type": "text",
    "id": "KNj_QgDgZ-wd"
   },
   "source": [
    "### Feature Engineering"
   ]
  },
  {
   "cell_type": "markdown",
   "metadata": {
    "colab_type": "text",
    "id": "8IDWeNCvZ-we"
   },
   "source": [
    "#### *month* & *hour*"
   ]
  },
  {
   "cell_type": "markdown",
   "metadata": {
    "colab_type": "text",
    "id": "aplivJsTZ-wf"
   },
   "source": [
    "When applying trees it is very important to reduce the number of features, so it is better *NOT* to use dummy variables. Hence, we decide to keep *hour* and *month* numerical, hoping that the tree will join together natural sequences of months (e.g. March to May) and hours (e.g. 11-14)."
   ]
  },
  {
   "cell_type": "markdown",
   "metadata": {
    "colab_type": "text",
    "id": "5Gxn32U_Z-wf"
   },
   "source": [
    "> **Note:** An alternative approach would be to use many dummy variables, but then the number of feature increases, and other models would be more suitable (e.g. linear models & k-NN). An examplary code for this engineering is given below."
   ]
  },
  {
   "cell_type": "code",
   "execution_count": 0,
   "metadata": {
    "colab": {
     "autoexec": {
      "startup": false,
      "wait_interval": 0
     }
    },
    "colab_type": "code",
    "id": "CFjOuktZZ-wf"
   },
   "outputs": [],
   "source": [
    "# def bin_hour(df):\n",
    "#     df['hour'] = pd.cut(df.hour, bins=[0, 6, 9, 16, 19, 23], include_lowest=True, \n",
    "#                      labels=['midnight', 'morning rush', 'work', 'evening rush', 'evening'],)\n",
    "#     return df \n",
    "\n",
    "# train_data_rw = pd.get_dummies(bin_hour(train_data_rw))"
   ]
  },
  {
   "cell_type": "markdown",
   "metadata": {
    "colab_type": "text",
    "id": "RR0KonaMZ-wg"
   },
   "source": [
    "#### *weather*"
   ]
  },
  {
   "cell_type": "markdown",
   "metadata": {
    "colab_type": "text",
    "id": "ABwijJJbZ-wg"
   },
   "source": [
    "*weather* has only 3 categories, and we can trust the model to separate them easily."
   ]
  },
  {
   "cell_type": "markdown",
   "metadata": {
    "colab_type": "text",
    "id": "CQTy_oVbZ-wh"
   },
   "source": [
    "### Modelling"
   ]
  },
  {
   "cell_type": "code",
   "execution_count": 0,
   "metadata": {
    "colab": {
     "autoexec": {
      "startup": false,
      "wait_interval": 0
     }
    },
    "colab_type": "code",
    "id": "P_4yt-j2Z-wh"
   },
   "outputs": [],
   "source": [
    "X_rw = train_data_rw.drop('registered', axis=1, inplace=False)\n",
    "y_rw = train_data_rw['registered']"
   ]
  },
  {
   "cell_type": "code",
   "execution_count": 108,
   "metadata": {
    "colab": {
     "autoexec": {
      "startup": false,
      "wait_interval": 0
     },
     "base_uri": "https://localhost:8080/",
     "height": 35
    },
    "colab_type": "code",
    "executionInfo": {
     "elapsed": 1052,
     "status": "ok",
     "timestamp": 1533374881488,
     "user": {
      "displayName": "Amit Rappel",
      "photoUrl": "//lh5.googleusercontent.com/-Stg14jONmNc/AAAAAAAAAAI/AAAAAAAAAos/0hU6Y5dO8yk/s50-c-k-no/photo.jpg",
      "userId": "110543092444518971604"
     },
     "user_tz": -180
    },
    "id": "lBDYiCXsQ7br",
    "outputId": "c5924d11-af7f-48ae-ea53-031522a89585"
   },
   "outputs": [
    {
     "data": {
      "text/plain": [
       "Index(['weather', 'temp', 'humidity', 'windspeed', 'year', 'month', 'hour'], dtype='object')"
      ]
     },
     "execution_count": 108,
     "metadata": {
      "tags": []
     },
     "output_type": "execute_result"
    }
   ],
   "source": [
    "X_rw.columns"
   ]
  },
  {
   "cell_type": "code",
   "execution_count": 0,
   "metadata": {
    "colab": {
     "autoexec": {
      "startup": false,
      "wait_interval": 0
     }
    },
    "colab_type": "code",
    "id": "VIz9COg4Z-wi"
   },
   "outputs": [],
   "source": [
    "rw_model_rf = RandomForestRegressor(n_estimators=200,\n",
    "                                    max_features='auto', random_state=0)"
   ]
  },
  {
   "cell_type": "markdown",
   "metadata": {
    "colab_type": "text",
    "id": "mrR4EcpcZ-wk"
   },
   "source": [
    "**NOTE:** Random forests shine when their trees are over-fitted, so we will keep the over-fitting hyper-parameters of the internal trees (*max_depth*, *min_samples_split*, etc.). A very nice explanation of tuning this model can be found in [this artical by Analytics Vidhya][trf].\n",
    "\n",
    "[trf]: https://www.analyticsvidhya.com/blog/2015/06/tuning-random-forest-model/ \"Tuning RandomForestRegressor)\""
   ]
  },
  {
   "cell_type": "code",
   "execution_count": 0,
   "metadata": {
    "colab": {
     "autoexec": {
      "startup": false,
      "wait_interval": 0
     }
    },
    "colab_type": "code",
    "id": "SkeTjjCEZ-wk"
   },
   "outputs": [],
   "source": [
    "scores = cross_val_score(estimator=rw_model_rf, X=X_rw, y=y_rw, \n",
    "                         cv=5, scoring=rmsle_scorer)"
   ]
  },
  {
   "cell_type": "code",
   "execution_count": 115,
   "metadata": {
    "colab": {
     "autoexec": {
      "startup": false,
      "wait_interval": 0
     },
     "base_uri": "https://localhost:8080/",
     "height": 52
    },
    "colab_type": "code",
    "executionInfo": {
     "elapsed": 630,
     "status": "ok",
     "timestamp": 1533375272880,
     "user": {
      "displayName": "Amit Rappel",
      "photoUrl": "//lh5.googleusercontent.com/-Stg14jONmNc/AAAAAAAAAAI/AAAAAAAAAos/0hU6Y5dO8yk/s50-c-k-no/photo.jpg",
      "userId": "110543092444518971604"
     },
     "user_tz": -180
    },
    "id": "TohvDPLBZ-wl",
    "outputId": "3b9b8436-570d-445f-850f-db7a93648d85"
   },
   "outputs": [
    {
     "name": "stdout",
     "output_type": "stream",
     "text": [
      "The mean of the scores is -0.468\n",
      "The standard deviation is 0.177\n"
     ]
    }
   ],
   "source": [
    "print(f'The mean of the scores is {scores.mean():.3}\\n\\\n",
    "The standard deviation is {scores.std():.3}')"
   ]
  },
  {
   "cell_type": "markdown",
   "metadata": {
    "colab_type": "text",
    "id": "fjz94440Z-wp"
   },
   "source": [
    "This looks like a promising model, so let's keep it :-)"
   ]
  },
  {
   "cell_type": "code",
   "execution_count": 53,
   "metadata": {
    "colab": {
     "autoexec": {
      "startup": false,
      "wait_interval": 0
     },
     "base_uri": "https://localhost:8080/",
     "height": 121
    },
    "colab_type": "code",
    "executionInfo": {
     "elapsed": 2400,
     "status": "ok",
     "timestamp": 1533373721474,
     "user": {
      "displayName": "Amit Rappel",
      "photoUrl": "//lh5.googleusercontent.com/-Stg14jONmNc/AAAAAAAAAAI/AAAAAAAAAos/0hU6Y5dO8yk/s50-c-k-no/photo.jpg",
      "userId": "110543092444518971604"
     },
     "user_tz": -180
    },
    "id": "iQUNt1A6Z-wq",
    "outputId": "7c6b1e69-ef30-4f1a-fc7c-9397fd688f79"
   },
   "outputs": [
    {
     "data": {
      "text/plain": [
       "RandomForestRegressor(bootstrap=True, criterion='mse', max_depth=None,\n",
       "           max_features='auto', max_leaf_nodes=None,\n",
       "           min_impurity_decrease=0.0, min_impurity_split=None,\n",
       "           min_samples_leaf=1, min_samples_split=2,\n",
       "           min_weight_fraction_leaf=0.0, n_estimators=100, n_jobs=1,\n",
       "           oob_score=False, random_state=0, verbose=0, warm_start=False)"
      ]
     },
     "execution_count": 53,
     "metadata": {
      "tags": []
     },
     "output_type": "execute_result"
    }
   ],
   "source": [
    "rw_model_rf.fit(X=X_rw, y=y_rw)"
   ]
  },
  {
   "cell_type": "markdown",
   "metadata": {
    "colab_type": "text",
    "id": "J8OU4G7IZ-wt"
   },
   "source": [
    "### Dimensionality reduction"
   ]
  },
  {
   "cell_type": "markdown",
   "metadata": {
    "colab_type": "text",
    "id": "IXXt-bTuZ-wt"
   },
   "source": [
    "Let's try to see if we can improve our model by removing unnecessary features. The problem at the moment is that *hour* is so important that it \"shadows\" the true relevancy of the other features. We can try to fit a model **without** *hour* and see if the importances change."
   ]
  },
  {
   "cell_type": "code",
   "execution_count": 54,
   "metadata": {
    "colab": {
     "autoexec": {
      "startup": false,
      "wait_interval": 0
     },
     "base_uri": "https://localhost:8080/",
     "height": 121
    },
    "colab_type": "code",
    "executionInfo": {
     "elapsed": 2168,
     "status": "ok",
     "timestamp": 1533373724195,
     "user": {
      "displayName": "Amit Rappel",
      "photoUrl": "//lh5.googleusercontent.com/-Stg14jONmNc/AAAAAAAAAAI/AAAAAAAAAos/0hU6Y5dO8yk/s50-c-k-no/photo.jpg",
      "userId": "110543092444518971604"
     },
     "user_tz": -180
    },
    "id": "w3S1yr3CZ-wv",
    "outputId": "02430bd4-98ee-4a12-e1c9-daec64036cc9"
   },
   "outputs": [
    {
     "data": {
      "text/plain": [
       "RandomForestRegressor(bootstrap=True, criterion='mse', max_depth=None,\n",
       "           max_features='auto', max_leaf_nodes=None,\n",
       "           min_impurity_decrease=0.0, min_impurity_split=None,\n",
       "           min_samples_leaf=1, min_samples_split=2,\n",
       "           min_weight_fraction_leaf=0.0, n_estimators=100, n_jobs=1,\n",
       "           oob_score=False, random_state=0, verbose=0, warm_start=False)"
      ]
     },
     "execution_count": 54,
     "metadata": {
      "tags": []
     },
     "output_type": "execute_result"
    }
   ],
   "source": [
    "X_rw_no_hour = train_data_rw.drop(['registered', 'hour'], axis=1, inplace=False)\n",
    "y_rw_no_hour = train_data_rw['registered']\n",
    "rw_model_rf_no_hour = RandomForestRegressor(n_estimators=100, \n",
    "                                            max_features='auto', random_state=0)\n",
    "rw_model_rf_no_hour.fit(X=X_rw_no_hour, y=y_rw_no_hour)"
   ]
  },
  {
   "cell_type": "code",
   "execution_count": 55,
   "metadata": {
    "colab": {
     "autoexec": {
      "startup": false,
      "wait_interval": 0
     },
     "base_uri": "https://localhost:8080/",
     "height": 263
    },
    "colab_type": "code",
    "executionInfo": {
     "elapsed": 640,
     "status": "ok",
     "timestamp": 1533373725678,
     "user": {
      "displayName": "Amit Rappel",
      "photoUrl": "//lh5.googleusercontent.com/-Stg14jONmNc/AAAAAAAAAAI/AAAAAAAAAos/0hU6Y5dO8yk/s50-c-k-no/photo.jpg",
      "userId": "110543092444518971604"
     },
     "user_tz": -180
    },
    "id": "I8rm1fgeZ-wx",
    "outputId": "fc2a50e9-fe95-483f-f232-667d10ee4abe"
   },
   "outputs": [
    {
     "data": {
      "text/html": [
       "<div>\n",
       "<style scoped>\n",
       "    .dataframe tbody tr th:only-of-type {\n",
       "        vertical-align: middle;\n",
       "    }\n",
       "\n",
       "    .dataframe tbody tr th {\n",
       "        vertical-align: top;\n",
       "    }\n",
       "\n",
       "    .dataframe thead th {\n",
       "        text-align: right;\n",
       "    }\n",
       "</style>\n",
       "<table border=\"1\" class=\"dataframe\">\n",
       "  <thead>\n",
       "    <tr style=\"text-align: right;\">\n",
       "      <th></th>\n",
       "      <th>with hour</th>\n",
       "      <th>without hour</th>\n",
       "    </tr>\n",
       "  </thead>\n",
       "  <tbody>\n",
       "    <tr>\n",
       "      <th>windspeed</th>\n",
       "      <td>0.011962</td>\n",
       "      <td>0.330512</td>\n",
       "    </tr>\n",
       "    <tr>\n",
       "      <th>humidity</th>\n",
       "      <td>0.026264</td>\n",
       "      <td>0.231183</td>\n",
       "    </tr>\n",
       "    <tr>\n",
       "      <th>temp</th>\n",
       "      <td>0.040237</td>\n",
       "      <td>0.211095</td>\n",
       "    </tr>\n",
       "    <tr>\n",
       "      <th>month</th>\n",
       "      <td>0.073596</td>\n",
       "      <td>0.108927</td>\n",
       "    </tr>\n",
       "    <tr>\n",
       "      <th>year</th>\n",
       "      <td>0.096209</td>\n",
       "      <td>0.071973</td>\n",
       "    </tr>\n",
       "    <tr>\n",
       "      <th>weather</th>\n",
       "      <td>0.017330</td>\n",
       "      <td>0.046310</td>\n",
       "    </tr>\n",
       "    <tr>\n",
       "      <th>hour</th>\n",
       "      <td>0.734402</td>\n",
       "      <td>NaN</td>\n",
       "    </tr>\n",
       "  </tbody>\n",
       "</table>\n",
       "</div>"
      ],
      "text/plain": [
       "           with hour  without hour\n",
       "windspeed   0.011962   0.330512   \n",
       "humidity    0.026264   0.231183   \n",
       "temp        0.040237   0.211095   \n",
       "month       0.073596   0.108927   \n",
       "year        0.096209   0.071973   \n",
       "weather     0.017330   0.046310   \n",
       "hour        0.734402        NaN   "
      ]
     },
     "execution_count": 55,
     "metadata": {
      "tags": []
     },
     "output_type": "execute_result"
    }
   ],
   "source": [
    "imps_rw = pd.Series(rw_model_rf.feature_importances_, \n",
    "                    index=X_rw.columns, name='with hour')\n",
    "imps_rw_no_hour = pd.Series(rw_model_rf_no_hour.feature_importances_, \n",
    "                            index=X_rw_no_hour.columns, name='without hour')\n",
    "pd.concat([imps_rw, imps_rw_no_hour], axis=1).sort_values(by='without hour', ascending=False)"
   ]
  },
  {
   "cell_type": "markdown",
   "metadata": {
    "colab_type": "text",
    "id": "xHCahh_eZ-wz"
   },
   "source": [
    "**Conclusion:** It seems like we could maybe drop the *weather* and *year* data."
   ]
  },
  {
   "cell_type": "code",
   "execution_count": 56,
   "metadata": {
    "colab": {
     "autoexec": {
      "startup": false,
      "wait_interval": 0
     },
     "base_uri": "https://localhost:8080/",
     "height": 121
    },
    "colab_type": "code",
    "executionInfo": {
     "elapsed": 2356,
     "status": "ok",
     "timestamp": 1533373729382,
     "user": {
      "displayName": "Amit Rappel",
      "photoUrl": "//lh5.googleusercontent.com/-Stg14jONmNc/AAAAAAAAAAI/AAAAAAAAAos/0hU6Y5dO8yk/s50-c-k-no/photo.jpg",
      "userId": "110543092444518971604"
     },
     "user_tz": -180
    },
    "id": "pfnw3KV2Z-wz",
    "outputId": "18f56e66-515a-40a1-abca-9670e5da7f24"
   },
   "outputs": [
    {
     "data": {
      "text/plain": [
       "RandomForestRegressor(bootstrap=True, criterion='mse', max_depth=None,\n",
       "           max_features='auto', max_leaf_nodes=None,\n",
       "           min_impurity_decrease=0.0, min_impurity_split=None,\n",
       "           min_samples_leaf=1, min_samples_split=2,\n",
       "           min_weight_fraction_leaf=0.0, n_estimators=100, n_jobs=1,\n",
       "           oob_score=False, random_state=0, verbose=0, warm_start=False)"
      ]
     },
     "execution_count": 56,
     "metadata": {
      "tags": []
     },
     "output_type": "execute_result"
    }
   ],
   "source": [
    "X_rw_reduced = train_data_rw.drop(['registered', 'weather', 'year'], \n",
    "                                  axis=1, inplace=False)\n",
    "y_rw_reduced = train_data_rw['registered']\n",
    "rw_model_rf_reduced = RandomForestRegressor(n_estimators=100, random_state=0)\n",
    "rw_model_rf_reduced.fit(X=X_rw_reduced, y=y_rw_reduced)"
   ]
  },
  {
   "cell_type": "code",
   "execution_count": 0,
   "metadata": {
    "colab": {
     "autoexec": {
      "startup": false,
      "wait_interval": 0
     }
    },
    "colab_type": "code",
    "id": "LbqrdnPwZ-w3"
   },
   "outputs": [],
   "source": [
    "scores = cross_val_score(estimator=rw_model_rf_reduced, \n",
    "                         X=X_rw_reduced, y=y_rw_reduced, \n",
    "                         cv=10, scoring=rmsle_scorer)"
   ]
  },
  {
   "cell_type": "code",
   "execution_count": 58,
   "metadata": {
    "colab": {
     "autoexec": {
      "startup": false,
      "wait_interval": 0
     },
     "base_uri": "https://localhost:8080/",
     "height": 52
    },
    "colab_type": "code",
    "executionInfo": {
     "elapsed": 483,
     "status": "ok",
     "timestamp": 1533373744647,
     "user": {
      "displayName": "Amit Rappel",
      "photoUrl": "//lh5.googleusercontent.com/-Stg14jONmNc/AAAAAAAAAAI/AAAAAAAAAos/0hU6Y5dO8yk/s50-c-k-no/photo.jpg",
      "userId": "110543092444518971604"
     },
     "user_tz": -180
    },
    "id": "mnVpTRUjZ-w4",
    "outputId": "b220ae97-a968-4245-ae15-a470200e90fd"
   },
   "outputs": [
    {
     "name": "stdout",
     "output_type": "stream",
     "text": [
      "The mean of the scores is -0.582\n",
      "The standard deviation is 0.118\n"
     ]
    }
   ],
   "source": [
    "print(f'The mean of the scores is {scores.mean():.3}\\n\\\n",
    "The standard deviation is {scores.std():.3}')"
   ]
  },
  {
   "cell_type": "markdown",
   "metadata": {
    "colab_type": "text",
    "id": "o8ZgCLYXZ-w5"
   },
   "source": [
    "Well, we tried..."
   ]
  },
  {
   "cell_type": "markdown",
   "metadata": {
    "colab_type": "text",
    "id": "GyUMB6LDZ-w5"
   },
   "source": [
    "## Hyper-parameter optimization"
   ]
  },
  {
   "cell_type": "code",
   "execution_count": 0,
   "metadata": {
    "colab": {
     "autoexec": {
      "startup": false,
      "wait_interval": 0
     }
    },
    "colab_type": "code",
    "id": "jCm48EL6Z-w8"
   },
   "outputs": [],
   "source": [
    "param_grid = [{'max_features': ['auto', 3, 5, 7], 'bootstrap': [True], 'oob_score': [True, False]},\n",
    "              {'max_features': ['auto', 3, 5, 7], 'bootstrap': [False], 'oob_score': [False]}]"
   ]
  },
  {
   "cell_type": "code",
   "execution_count": 0,
   "metadata": {
    "colab": {
     "autoexec": {
      "startup": false,
      "wait_interval": 0
     }
    },
    "colab_type": "code",
    "id": "B-1t2qItZ-w9"
   },
   "outputs": [],
   "source": [
    "rw_model_rf_gs = GridSearchCV(rw_model_rf, param_grid=param_grid, scoring=rmsle_scorer, cv=5)"
   ]
  },
  {
   "cell_type": "code",
   "execution_count": 61,
   "metadata": {
    "colab": {
     "autoexec": {
      "startup": false,
      "wait_interval": 0
     },
     "base_uri": "https://localhost:8080/",
     "height": 228
    },
    "colab_type": "code",
    "executionInfo": {
     "elapsed": 60221,
     "status": "ok",
     "timestamp": 1533373808277,
     "user": {
      "displayName": "Amit Rappel",
      "photoUrl": "//lh5.googleusercontent.com/-Stg14jONmNc/AAAAAAAAAAI/AAAAAAAAAos/0hU6Y5dO8yk/s50-c-k-no/photo.jpg",
      "userId": "110543092444518971604"
     },
     "user_tz": -180
    },
    "id": "DhK4WVbdZ-w_",
    "outputId": "99680778-f404-4dfa-9057-15072e9b4b2a"
   },
   "outputs": [
    {
     "data": {
      "text/plain": [
       "GridSearchCV(cv=5, error_score='raise',\n",
       "       estimator=RandomForestRegressor(bootstrap=True, criterion='mse', max_depth=None,\n",
       "           max_features='auto', max_leaf_nodes=None,\n",
       "           min_impurity_decrease=0.0, min_impurity_split=None,\n",
       "           min_samples_leaf=1, min_samples_split=2,\n",
       "           min_weight_fraction_leaf=0.0, n_estimators=100, n_jobs=1,\n",
       "           oob_score=False, random_state=0, verbose=0, warm_start=False),\n",
       "       fit_params=None, iid=True, n_jobs=1,\n",
       "       param_grid=[{'max_features': [3, 5, 7], 'bootstrap': [True], 'oob_score': [True, False]}, {'max_features': [3, 5, 7], 'bootstrap': [False], 'oob_score': [False]}],\n",
       "       pre_dispatch='2*n_jobs', refit=True, return_train_score='warn',\n",
       "       scoring=make_scorer(rmsle, greater_is_better=False), verbose=0)"
      ]
     },
     "execution_count": 61,
     "metadata": {
      "tags": []
     },
     "output_type": "execute_result"
    }
   ],
   "source": [
    "rw_model_rf_gs.fit(X_rw, y_rw)"
   ]
  },
  {
   "cell_type": "code",
   "execution_count": 0,
   "metadata": {
    "colab": {
     "autoexec": {
      "startup": false,
      "wait_interval": 0
     }
    },
    "colab_type": "code",
    "id": "bDbMIvmdZ-xA"
   },
   "outputs": [],
   "source": [
    "best_params = rw_model_rf_gs.best_params_"
   ]
  },
  {
   "cell_type": "code",
   "execution_count": 0,
   "metadata": {
    "colab": {
     "autoexec": {
      "startup": false,
      "wait_interval": 0
     }
    },
    "colab_type": "code",
    "id": "5kDOxLbYZ-xA"
   },
   "outputs": [],
   "source": [
    "scores = cross_val_score(estimator=rw_model_rf_gs.best_estimator_, \n",
    "                         X=X_rw, y=y_rw, cv=10, scoring=rmsle_scorer)"
   ]
  },
  {
   "cell_type": "code",
   "execution_count": 64,
   "metadata": {
    "colab": {
     "autoexec": {
      "startup": false,
      "wait_interval": 0
     },
     "base_uri": "https://localhost:8080/",
     "height": 52
    },
    "colab_type": "code",
    "executionInfo": {
     "elapsed": 696,
     "status": "ok",
     "timestamp": 1533373828770,
     "user": {
      "displayName": "Amit Rappel",
      "photoUrl": "//lh5.googleusercontent.com/-Stg14jONmNc/AAAAAAAAAAI/AAAAAAAAAos/0hU6Y5dO8yk/s50-c-k-no/photo.jpg",
      "userId": "110543092444518971604"
     },
     "user_tz": -180
    },
    "id": "0JR0BetNZ-xC",
    "outputId": "e06142b4-3ed2-4854-80f5-23d11ecdd9b7"
   },
   "outputs": [
    {
     "name": "stdout",
     "output_type": "stream",
     "text": [
      "The mean of the scores is -0.382\n",
      "The standard deviation is 0.0745\n"
     ]
    }
   ],
   "source": [
    "print(f'The mean of the scores is {scores.mean():.3}\\n\\\n",
    "The standard deviation is {scores.std():.3}')"
   ]
  },
  {
   "cell_type": "markdown",
   "metadata": {
    "colab_type": "text",
    "id": "o5itvzWaZ-xD"
   },
   "source": [
    "**And finally:**"
   ]
  },
  {
   "cell_type": "code",
   "execution_count": 0,
   "metadata": {
    "colab": {
     "autoexec": {
      "startup": false,
      "wait_interval": 0
     }
    },
    "colab_type": "code",
    "id": "8_3Fy6g0Z-xD"
   },
   "outputs": [],
   "source": [
    "rw_model_rf = rw_model_rf_gs.best_estimator_.fit(X_rw, y_rw)"
   ]
  },
  {
   "cell_type": "markdown",
   "metadata": {
    "colab_type": "text",
    "id": "sY4v--6fZ-xE"
   },
   "source": [
    "## Model \\#2 (*rn*) - Registered users on Non-working days"
   ]
  },
  {
   "cell_type": "code",
   "execution_count": 0,
   "metadata": {
    "colab": {
     "autoexec": {
      "startup": false,
      "wait_interval": 0
     }
    },
    "colab_type": "code",
    "id": "jLaZi0NPZ-xE"
   },
   "outputs": [],
   "source": [
    "train_data_rn = train_data.loc[train_data.workingday==0]\\\n",
    "    .drop(['count', 'casual', 'workingday'], axis=1, inplace=False)"
   ]
  },
  {
   "cell_type": "code",
   "execution_count": 67,
   "metadata": {
    "colab": {
     "autoexec": {
      "startup": false,
      "wait_interval": 0
     },
     "base_uri": "https://localhost:8080/",
     "height": 233
    },
    "colab_type": "code",
    "executionInfo": {
     "elapsed": 1324,
     "status": "ok",
     "timestamp": 1533373836431,
     "user": {
      "displayName": "Amit Rappel",
      "photoUrl": "//lh5.googleusercontent.com/-Stg14jONmNc/AAAAAAAAAAI/AAAAAAAAAos/0hU6Y5dO8yk/s50-c-k-no/photo.jpg",
      "userId": "110543092444518971604"
     },
     "user_tz": -180
    },
    "id": "VzRjF9uCZ-xH",
    "outputId": "a4ed5eec-7cba-469e-84c3-14fbc1579f2d"
   },
   "outputs": [
    {
     "data": {
      "text/html": [
       "<div>\n",
       "<style scoped>\n",
       "    .dataframe tbody tr th:only-of-type {\n",
       "        vertical-align: middle;\n",
       "    }\n",
       "\n",
       "    .dataframe tbody tr th {\n",
       "        vertical-align: top;\n",
       "    }\n",
       "\n",
       "    .dataframe thead th {\n",
       "        text-align: right;\n",
       "    }\n",
       "</style>\n",
       "<table border=\"1\" class=\"dataframe\">\n",
       "  <thead>\n",
       "    <tr style=\"text-align: right;\">\n",
       "      <th></th>\n",
       "      <th>weather</th>\n",
       "      <th>temp</th>\n",
       "      <th>humidity</th>\n",
       "      <th>windspeed</th>\n",
       "      <th>registered</th>\n",
       "      <th>year</th>\n",
       "      <th>month</th>\n",
       "      <th>hour</th>\n",
       "    </tr>\n",
       "    <tr>\n",
       "      <th>datetime</th>\n",
       "      <th></th>\n",
       "      <th></th>\n",
       "      <th></th>\n",
       "      <th></th>\n",
       "      <th></th>\n",
       "      <th></th>\n",
       "      <th></th>\n",
       "      <th></th>\n",
       "    </tr>\n",
       "  </thead>\n",
       "  <tbody>\n",
       "    <tr>\n",
       "      <th>2011-01-01 02:00:00</th>\n",
       "      <td>1</td>\n",
       "      <td>9.02</td>\n",
       "      <td>80</td>\n",
       "      <td>0.00000</td>\n",
       "      <td>27</td>\n",
       "      <td>0</td>\n",
       "      <td>1</td>\n",
       "      <td>2</td>\n",
       "    </tr>\n",
       "    <tr>\n",
       "      <th>2011-01-01 03:00:00</th>\n",
       "      <td>1</td>\n",
       "      <td>9.84</td>\n",
       "      <td>75</td>\n",
       "      <td>1.20064</td>\n",
       "      <td>10</td>\n",
       "      <td>0</td>\n",
       "      <td>1</td>\n",
       "      <td>3</td>\n",
       "    </tr>\n",
       "    <tr>\n",
       "      <th>2011-01-01 04:00:00</th>\n",
       "      <td>1</td>\n",
       "      <td>9.84</td>\n",
       "      <td>75</td>\n",
       "      <td>1.20064</td>\n",
       "      <td>1</td>\n",
       "      <td>0</td>\n",
       "      <td>1</td>\n",
       "      <td>4</td>\n",
       "    </tr>\n",
       "    <tr>\n",
       "      <th>2011-01-01 05:00:00</th>\n",
       "      <td>2</td>\n",
       "      <td>9.84</td>\n",
       "      <td>75</td>\n",
       "      <td>1.20064</td>\n",
       "      <td>1</td>\n",
       "      <td>0</td>\n",
       "      <td>1</td>\n",
       "      <td>5</td>\n",
       "    </tr>\n",
       "    <tr>\n",
       "      <th>2011-01-01 06:00:00</th>\n",
       "      <td>1</td>\n",
       "      <td>9.02</td>\n",
       "      <td>80</td>\n",
       "      <td>1.20064</td>\n",
       "      <td>0</td>\n",
       "      <td>0</td>\n",
       "      <td>1</td>\n",
       "      <td>6</td>\n",
       "    </tr>\n",
       "  </tbody>\n",
       "</table>\n",
       "</div>"
      ],
      "text/plain": [
       "            weather  temp  humidity  windspeed  registered  year  month  hour\n",
       "datetime                                                                     \n",
       "2011-01...        1  9.02        80    0.00000         27      0      1     2\n",
       "2011-01...        1  9.84        75    1.20064         10      0      1     3\n",
       "2011-01...        1  9.84        75    1.20064          1      0      1     4\n",
       "2011-01...        2  9.84        75    1.20064          1      0      1     5\n",
       "2011-01...        1  9.02        80    1.20064          0      0      1     6"
      ]
     },
     "execution_count": 67,
     "metadata": {
      "tags": []
     },
     "output_type": "execute_result"
    }
   ],
   "source": [
    "train_data_rn.head()"
   ]
  },
  {
   "cell_type": "code",
   "execution_count": 68,
   "metadata": {
    "colab": {
     "autoexec": {
      "startup": false,
      "wait_interval": 0
     },
     "base_uri": "https://localhost:8080/",
     "height": 279
    },
    "colab_type": "code",
    "executionInfo": {
     "elapsed": 1144,
     "status": "ok",
     "timestamp": 1533373838181,
     "user": {
      "displayName": "Amit Rappel",
      "photoUrl": "//lh5.googleusercontent.com/-Stg14jONmNc/AAAAAAAAAAI/AAAAAAAAAos/0hU6Y5dO8yk/s50-c-k-no/photo.jpg",
      "userId": "110543092444518971604"
     },
     "user_tz": -180
    },
    "id": "ogFICu7_Z-xH",
    "outputId": "b1fbc856-4d4d-4aef-9935-7429fae856d5"
   },
   "outputs": [
    {
     "data": {
      "image/png": "[encoded data removed]",
      "text/plain": [
       "<matplotlib.figure.Figure at 0x7f5c8d805a58>"
      ]
     },
     "metadata": {
      "tags": []
     },
     "output_type": "display_data"
    }
   ],
   "source": [
    "ax = train_data_rn.groupby('hour')['registered'].mean().plot(legend=None)"
   ]
  },
  {
   "cell_type": "code",
   "execution_count": 0,
   "metadata": {
    "colab": {
     "autoexec": {
      "startup": false,
      "wait_interval": 0
     }
    },
    "colab_type": "code",
    "id": "L-J95YNhZ-xI"
   },
   "outputs": [],
   "source": [
    "X_rn = train_data_rn.drop('registered', axis=1, inplace=False)\n",
    "y_rn = train_data_rn['registered']"
   ]
  },
  {
   "cell_type": "code",
   "execution_count": 0,
   "metadata": {
    "colab": {
     "autoexec": {
      "startup": false,
      "wait_interval": 0
     }
    },
    "colab_type": "code",
    "id": "UaVy4KB-Z-xJ"
   },
   "outputs": [],
   "source": [
    "rn_model_rf = RandomForestRegressor(n_estimators=100, random_state=0, **best_params)"
   ]
  },
  {
   "cell_type": "code",
   "execution_count": 0,
   "metadata": {
    "colab": {
     "autoexec": {
      "startup": false,
      "wait_interval": 0
     }
    },
    "colab_type": "code",
    "id": "enGnI8_CZ-xK"
   },
   "outputs": [],
   "source": [
    "scores = cross_val_score(estimator=rn_model_rf, \n",
    "                         X=X_rn, y=y_rn, cv=10, scoring=rmsle_scorer)"
   ]
  },
  {
   "cell_type": "code",
   "execution_count": 72,
   "metadata": {
    "colab": {
     "autoexec": {
      "startup": false,
      "wait_interval": 0
     },
     "base_uri": "https://localhost:8080/",
     "height": 52
    },
    "colab_type": "code",
    "executionInfo": {
     "elapsed": 623,
     "status": "ok",
     "timestamp": 1533373852652,
     "user": {
      "displayName": "Amit Rappel",
      "photoUrl": "//lh5.googleusercontent.com/-Stg14jONmNc/AAAAAAAAAAI/AAAAAAAAAos/0hU6Y5dO8yk/s50-c-k-no/photo.jpg",
      "userId": "110543092444518971604"
     },
     "user_tz": -180
    },
    "id": "6JcyukFMZ-xL",
    "outputId": "101a99ee-79d6-4bcb-849b-0dbae8cffc88"
   },
   "outputs": [
    {
     "name": "stdout",
     "output_type": "stream",
     "text": [
      "The mean of the scores is -0.465\n",
      "The standard deviation is 0.172\n"
     ]
    }
   ],
   "source": [
    "print(f'The mean of the scores is {scores.mean():.3}\\n\\\n",
    "The standard deviation is {scores.std():.3}')"
   ]
  },
  {
   "cell_type": "markdown",
   "metadata": {
    "colab_type": "text",
    "id": "YgIYKxLBZ-xN"
   },
   "source": [
    "## Model \\#3 (*cw*) - Casual users on Working days"
   ]
  },
  {
   "cell_type": "code",
   "execution_count": 0,
   "metadata": {
    "colab": {
     "autoexec": {
      "startup": false,
      "wait_interval": 0
     }
    },
    "colab_type": "code",
    "id": "V5wO8parZ-xN"
   },
   "outputs": [],
   "source": [
    "train_data_cw = train_data.loc[train_data.workingday==1]\\\n",
    "    .drop(['count', 'registered', 'workingday'], axis=1, inplace=False)"
   ]
  },
  {
   "cell_type": "code",
   "execution_count": 74,
   "metadata": {
    "colab": {
     "autoexec": {
      "startup": false,
      "wait_interval": 0
     },
     "base_uri": "https://localhost:8080/",
     "height": 233
    },
    "colab_type": "code",
    "executionInfo": {
     "elapsed": 611,
     "status": "ok",
     "timestamp": 1533373856647,
     "user": {
      "displayName": "Amit Rappel",
      "photoUrl": "//lh5.googleusercontent.com/-Stg14jONmNc/AAAAAAAAAAI/AAAAAAAAAos/0hU6Y5dO8yk/s50-c-k-no/photo.jpg",
      "userId": "110543092444518971604"
     },
     "user_tz": -180
    },
    "id": "n3zCxo6kZ-xP",
    "outputId": "7ebae162-bfd6-4a38-af4b-82c7ee2af507"
   },
   "outputs": [
    {
     "data": {
      "text/html": [
       "<div>\n",
       "<style scoped>\n",
       "    .dataframe tbody tr th:only-of-type {\n",
       "        vertical-align: middle;\n",
       "    }\n",
       "\n",
       "    .dataframe tbody tr th {\n",
       "        vertical-align: top;\n",
       "    }\n",
       "\n",
       "    .dataframe thead th {\n",
       "        text-align: right;\n",
       "    }\n",
       "</style>\n",
       "<table border=\"1\" class=\"dataframe\">\n",
       "  <thead>\n",
       "    <tr style=\"text-align: right;\">\n",
       "      <th></th>\n",
       "      <th>weather</th>\n",
       "      <th>temp</th>\n",
       "      <th>humidity</th>\n",
       "      <th>windspeed</th>\n",
       "      <th>casual</th>\n",
       "      <th>year</th>\n",
       "      <th>month</th>\n",
       "      <th>hour</th>\n",
       "    </tr>\n",
       "    <tr>\n",
       "      <th>datetime</th>\n",
       "      <th></th>\n",
       "      <th></th>\n",
       "      <th></th>\n",
       "      <th></th>\n",
       "      <th></th>\n",
       "      <th></th>\n",
       "      <th></th>\n",
       "      <th></th>\n",
       "    </tr>\n",
       "  </thead>\n",
       "  <tbody>\n",
       "    <tr>\n",
       "      <th>2011-01-03 00:00:00</th>\n",
       "      <td>1</td>\n",
       "      <td>9.02</td>\n",
       "      <td>44</td>\n",
       "      <td>21.80046</td>\n",
       "      <td>0</td>\n",
       "      <td>0</td>\n",
       "      <td>1</td>\n",
       "      <td>0</td>\n",
       "    </tr>\n",
       "    <tr>\n",
       "      <th>2011-01-03 01:00:00</th>\n",
       "      <td>1</td>\n",
       "      <td>8.20</td>\n",
       "      <td>44</td>\n",
       "      <td>21.60080</td>\n",
       "      <td>0</td>\n",
       "      <td>0</td>\n",
       "      <td>1</td>\n",
       "      <td>1</td>\n",
       "    </tr>\n",
       "    <tr>\n",
       "      <th>2011-01-03 04:00:00</th>\n",
       "      <td>1</td>\n",
       "      <td>6.56</td>\n",
       "      <td>47</td>\n",
       "      <td>24.60106</td>\n",
       "      <td>0</td>\n",
       "      <td>0</td>\n",
       "      <td>1</td>\n",
       "      <td>4</td>\n",
       "    </tr>\n",
       "    <tr>\n",
       "      <th>2011-01-03 05:00:00</th>\n",
       "      <td>1</td>\n",
       "      <td>6.56</td>\n",
       "      <td>47</td>\n",
       "      <td>22.40078</td>\n",
       "      <td>0</td>\n",
       "      <td>0</td>\n",
       "      <td>1</td>\n",
       "      <td>5</td>\n",
       "    </tr>\n",
       "    <tr>\n",
       "      <th>2011-01-03 06:00:00</th>\n",
       "      <td>1</td>\n",
       "      <td>5.74</td>\n",
       "      <td>50</td>\n",
       "      <td>20.60116</td>\n",
       "      <td>0</td>\n",
       "      <td>0</td>\n",
       "      <td>1</td>\n",
       "      <td>6</td>\n",
       "    </tr>\n",
       "  </tbody>\n",
       "</table>\n",
       "</div>"
      ],
      "text/plain": [
       "            weather  temp  humidity  windspeed  casual  year  month  hour\n",
       "datetime                                                                 \n",
       "2011-01...        1  9.02        44   21.80046       0     0      1     0\n",
       "2011-01...        1  8.20        44   21.60080       0     0      1     1\n",
       "2011-01...        1  6.56        47   24.60106       0     0      1     4\n",
       "2011-01...        1  6.56        47   22.40078       0     0      1     5\n",
       "2011-01...        1  5.74        50   20.60116       0     0      1     6"
      ]
     },
     "execution_count": 74,
     "metadata": {
      "tags": []
     },
     "output_type": "execute_result"
    }
   ],
   "source": [
    "train_data_cw.head()"
   ]
  },
  {
   "cell_type": "code",
   "execution_count": 75,
   "metadata": {
    "colab": {
     "autoexec": {
      "startup": false,
      "wait_interval": 0
     },
     "base_uri": "https://localhost:8080/",
     "height": 279
    },
    "colab_type": "code",
    "executionInfo": {
     "elapsed": 902,
     "status": "ok",
     "timestamp": 1533373858965,
     "user": {
      "displayName": "Amit Rappel",
      "photoUrl": "//lh5.googleusercontent.com/-Stg14jONmNc/AAAAAAAAAAI/AAAAAAAAAos/0hU6Y5dO8yk/s50-c-k-no/photo.jpg",
      "userId": "110543092444518971604"
     },
     "user_tz": -180
    },
    "id": "-fObT-eIZ-xQ",
    "outputId": "9b2771a2-8326-4d19-b75a-f19a29dcf63a"
   },
   "outputs": [
    {
     "data": {
      "image/png": "[encoded data removed]",
      "text/plain": [
       "<matplotlib.figure.Figure at 0x7f5c8dbb4358>"
      ]
     },
     "metadata": {
      "tags": []
     },
     "output_type": "display_data"
    }
   ],
   "source": [
    "ax = train_data_cw.groupby('hour')['casual'].mean().plot(legend=None)"
   ]
  },
  {
   "cell_type": "code",
   "execution_count": 0,
   "metadata": {
    "colab": {
     "autoexec": {
      "startup": false,
      "wait_interval": 0
     }
    },
    "colab_type": "code",
    "id": "9dZTUJ_JZ-xS"
   },
   "outputs": [],
   "source": [
    "X_cw = train_data_cw.drop('casual', axis=1, inplace=False)\n",
    "y_cw = train_data_cw['casual']"
   ]
  },
  {
   "cell_type": "code",
   "execution_count": 0,
   "metadata": {
    "colab": {
     "autoexec": {
      "startup": false,
      "wait_interval": 0
     }
    },
    "colab_type": "code",
    "id": "90-DptQCZ-xT"
   },
   "outputs": [],
   "source": [
    "cw_model_rf = RandomForestRegressor(n_estimators=100, random_state=0, **best_params)"
   ]
  },
  {
   "cell_type": "code",
   "execution_count": 0,
   "metadata": {
    "colab": {
     "autoexec": {
      "startup": false,
      "wait_interval": 0
     }
    },
    "colab_type": "code",
    "id": "uxsedlReZ-xU"
   },
   "outputs": [],
   "source": [
    "scores = cross_val_score(estimator=cw_model_rf, \n",
    "                         X=X_cw, y=y_cw, cv=10, scoring=rmsle_scorer)"
   ]
  },
  {
   "cell_type": "code",
   "execution_count": 79,
   "metadata": {
    "colab": {
     "autoexec": {
      "startup": false,
      "wait_interval": 0
     },
     "base_uri": "https://localhost:8080/",
     "height": 52
    },
    "colab_type": "code",
    "executionInfo": {
     "elapsed": 624,
     "status": "ok",
     "timestamp": 1533373880871,
     "user": {
      "displayName": "Amit Rappel",
      "photoUrl": "//lh5.googleusercontent.com/-Stg14jONmNc/AAAAAAAAAAI/AAAAAAAAAos/0hU6Y5dO8yk/s50-c-k-no/photo.jpg",
      "userId": "110543092444518971604"
     },
     "user_tz": -180
    },
    "id": "Yo3gocSAZ-xW",
    "outputId": "a81ab670-516c-42f2-e3ad-c0adf3d5b728"
   },
   "outputs": [
    {
     "name": "stdout",
     "output_type": "stream",
     "text": [
      "The mean of the scores is -0.677\n",
      "The standard deviation is 0.166\n"
     ]
    }
   ],
   "source": [
    "print(f'The mean of the scores is {scores.mean():.3}\\n\\\n",
    "The standard deviation is {scores.std():.3}')"
   ]
  },
  {
   "cell_type": "markdown",
   "metadata": {
    "colab_type": "text",
    "id": "QnvnAhlOZ-xf"
   },
   "source": [
    "## Model \\#4 (*cn*) - Casual users on Non-working days"
   ]
  },
  {
   "cell_type": "code",
   "execution_count": 0,
   "metadata": {
    "colab": {
     "autoexec": {
      "startup": false,
      "wait_interval": 0
     }
    },
    "colab_type": "code",
    "id": "Pt5Ku1aLZ-xf"
   },
   "outputs": [],
   "source": [
    "train_data_cn = train_data.loc[train_data.workingday==0]\\\n",
    "    .drop(['count', 'registered', 'workingday'], axis=1, inplace=False)"
   ]
  },
  {
   "cell_type": "code",
   "execution_count": 81,
   "metadata": {
    "colab": {
     "autoexec": {
      "startup": false,
      "wait_interval": 0
     },
     "base_uri": "https://localhost:8080/",
     "height": 233
    },
    "colab_type": "code",
    "executionInfo": {
     "elapsed": 647,
     "status": "ok",
     "timestamp": 1533373884692,
     "user": {
      "displayName": "Amit Rappel",
      "photoUrl": "//lh5.googleusercontent.com/-Stg14jONmNc/AAAAAAAAAAI/AAAAAAAAAos/0hU6Y5dO8yk/s50-c-k-no/photo.jpg",
      "userId": "110543092444518971604"
     },
     "user_tz": -180
    },
    "id": "3o1SLUh0Z-xg",
    "outputId": "e7628471-633f-4fa8-ec20-f0990def90f0"
   },
   "outputs": [
    {
     "data": {
      "text/html": [
       "<div>\n",
       "<style scoped>\n",
       "    .dataframe tbody tr th:only-of-type {\n",
       "        vertical-align: middle;\n",
       "    }\n",
       "\n",
       "    .dataframe tbody tr th {\n",
       "        vertical-align: top;\n",
       "    }\n",
       "\n",
       "    .dataframe thead th {\n",
       "        text-align: right;\n",
       "    }\n",
       "</style>\n",
       "<table border=\"1\" class=\"dataframe\">\n",
       "  <thead>\n",
       "    <tr style=\"text-align: right;\">\n",
       "      <th></th>\n",
       "      <th>weather</th>\n",
       "      <th>temp</th>\n",
       "      <th>humidity</th>\n",
       "      <th>windspeed</th>\n",
       "      <th>casual</th>\n",
       "      <th>year</th>\n",
       "      <th>month</th>\n",
       "      <th>hour</th>\n",
       "    </tr>\n",
       "    <tr>\n",
       "      <th>datetime</th>\n",
       "      <th></th>\n",
       "      <th></th>\n",
       "      <th></th>\n",
       "      <th></th>\n",
       "      <th></th>\n",
       "      <th></th>\n",
       "      <th></th>\n",
       "      <th></th>\n",
       "    </tr>\n",
       "  </thead>\n",
       "  <tbody>\n",
       "    <tr>\n",
       "      <th>2011-01-01 02:00:00</th>\n",
       "      <td>1</td>\n",
       "      <td>9.02</td>\n",
       "      <td>80</td>\n",
       "      <td>0.00000</td>\n",
       "      <td>5</td>\n",
       "      <td>0</td>\n",
       "      <td>1</td>\n",
       "      <td>2</td>\n",
       "    </tr>\n",
       "    <tr>\n",
       "      <th>2011-01-01 03:00:00</th>\n",
       "      <td>1</td>\n",
       "      <td>9.84</td>\n",
       "      <td>75</td>\n",
       "      <td>1.20064</td>\n",
       "      <td>3</td>\n",
       "      <td>0</td>\n",
       "      <td>1</td>\n",
       "      <td>3</td>\n",
       "    </tr>\n",
       "    <tr>\n",
       "      <th>2011-01-01 04:00:00</th>\n",
       "      <td>1</td>\n",
       "      <td>9.84</td>\n",
       "      <td>75</td>\n",
       "      <td>1.20064</td>\n",
       "      <td>0</td>\n",
       "      <td>0</td>\n",
       "      <td>1</td>\n",
       "      <td>4</td>\n",
       "    </tr>\n",
       "    <tr>\n",
       "      <th>2011-01-01 05:00:00</th>\n",
       "      <td>2</td>\n",
       "      <td>9.84</td>\n",
       "      <td>75</td>\n",
       "      <td>1.20064</td>\n",
       "      <td>0</td>\n",
       "      <td>0</td>\n",
       "      <td>1</td>\n",
       "      <td>5</td>\n",
       "    </tr>\n",
       "    <tr>\n",
       "      <th>2011-01-01 06:00:00</th>\n",
       "      <td>1</td>\n",
       "      <td>9.02</td>\n",
       "      <td>80</td>\n",
       "      <td>1.20064</td>\n",
       "      <td>2</td>\n",
       "      <td>0</td>\n",
       "      <td>1</td>\n",
       "      <td>6</td>\n",
       "    </tr>\n",
       "  </tbody>\n",
       "</table>\n",
       "</div>"
      ],
      "text/plain": [
       "            weather  temp  humidity  windspeed  casual  year  month  hour\n",
       "datetime                                                                 \n",
       "2011-01...        1  9.02        80    0.00000       5     0      1     2\n",
       "2011-01...        1  9.84        75    1.20064       3     0      1     3\n",
       "2011-01...        1  9.84        75    1.20064       0     0      1     4\n",
       "2011-01...        2  9.84        75    1.20064       0     0      1     5\n",
       "2011-01...        1  9.02        80    1.20064       2     0      1     6"
      ]
     },
     "execution_count": 81,
     "metadata": {
      "tags": []
     },
     "output_type": "execute_result"
    }
   ],
   "source": [
    "train_data_cn.head()"
   ]
  },
  {
   "cell_type": "code",
   "execution_count": 82,
   "metadata": {
    "colab": {
     "autoexec": {
      "startup": false,
      "wait_interval": 0
     },
     "base_uri": "https://localhost:8080/",
     "height": 279
    },
    "colab_type": "code",
    "executionInfo": {
     "elapsed": 915,
     "status": "ok",
     "timestamp": 1533373887041,
     "user": {
      "displayName": "Amit Rappel",
      "photoUrl": "//lh5.googleusercontent.com/-Stg14jONmNc/AAAAAAAAAAI/AAAAAAAAAos/0hU6Y5dO8yk/s50-c-k-no/photo.jpg",
      "userId": "110543092444518971604"
     },
     "user_tz": -180
    },
    "id": "doYjeAYwZ-xh",
    "outputId": "35f24052-e46e-459e-890c-1aee72149234"
   },
   "outputs": [
    {
     "data": {
      "image/png": "[encoded data removed]",
      "text/plain": [
       "<matplotlib.figure.Figure at 0x7f5c8d82ac50>"
      ]
     },
     "metadata": {
      "tags": []
     },
     "output_type": "display_data"
    }
   ],
   "source": [
    "ax = train_data_cn.groupby('hour')['casual'].mean().plot(legend=None)"
   ]
  },
  {
   "cell_type": "code",
   "execution_count": 0,
   "metadata": {
    "colab": {
     "autoexec": {
      "startup": false,
      "wait_interval": 0
     }
    },
    "colab_type": "code",
    "id": "cgAm2uzLZ-xj"
   },
   "outputs": [],
   "source": [
    "X_cn = train_data_cn.drop('casual', axis=1, inplace=False)\n",
    "y_cn = train_data_cn['casual']"
   ]
  },
  {
   "cell_type": "code",
   "execution_count": 0,
   "metadata": {
    "colab": {
     "autoexec": {
      "startup": false,
      "wait_interval": 0
     }
    },
    "colab_type": "code",
    "id": "SyXeRvlhZ-xk"
   },
   "outputs": [],
   "source": [
    "cn_model_rf = RandomForestRegressor(n_estimators=100, random_state=0, **best_params)"
   ]
  },
  {
   "cell_type": "code",
   "execution_count": 0,
   "metadata": {
    "colab": {
     "autoexec": {
      "startup": false,
      "wait_interval": 0
     }
    },
    "colab_type": "code",
    "id": "uy2zHWDhZ-xm"
   },
   "outputs": [],
   "source": [
    "scores = cross_val_score(estimator=cn_model_rf, \n",
    "                         X=X_cn, y=y_cn, cv=10, scoring=rmsle_scorer)"
   ]
  },
  {
   "cell_type": "code",
   "execution_count": 86,
   "metadata": {
    "colab": {
     "autoexec": {
      "startup": false,
      "wait_interval": 0
     },
     "base_uri": "https://localhost:8080/",
     "height": 52
    },
    "colab_type": "code",
    "executionInfo": {
     "elapsed": 646,
     "status": "ok",
     "timestamp": 1533373900685,
     "user": {
      "displayName": "Amit Rappel",
      "photoUrl": "//lh5.googleusercontent.com/-Stg14jONmNc/AAAAAAAAAAI/AAAAAAAAAos/0hU6Y5dO8yk/s50-c-k-no/photo.jpg",
      "userId": "110543092444518971604"
     },
     "user_tz": -180
    },
    "id": "3UKH0z6nZ-xn",
    "outputId": "b53bf41a-a3a8-49ca-cfc9-312c05a9e5ac"
   },
   "outputs": [
    {
     "name": "stdout",
     "output_type": "stream",
     "text": [
      "The mean of the scores is -0.673\n",
      "The standard deviation is 0.219\n"
     ]
    }
   ],
   "source": [
    "print(f'The mean of the scores is {scores.mean():.3}\\n\\\n",
    "The standard deviation is {scores.std():.3}')"
   ]
  },
  {
   "cell_type": "markdown",
   "metadata": {
    "colab_type": "text",
    "id": "cts3V8u-Z-xq"
   },
   "source": [
    "# The final (additive) model"
   ]
  },
  {
   "cell_type": "markdown",
   "metadata": {
    "colab_type": "text",
    "id": "CcUIxZ--S2u5"
   },
   "source": [
    "Very often you have to construct your own Estimator, and [this article by Daniel Hnyk][myoe] is probably the best introduction for how to do it properly.\n",
    "\n",
    "[myoe]: http://danielhnyk.cz/creating-your-own-estimator-scikit-learn/ \"Creating your own estimator in scikit-learn by Daniel Hnyk\""
   ]
  },
  {
   "cell_type": "code",
   "execution_count": 0,
   "metadata": {
    "colab": {
     "autoexec": {
      "startup": false,
      "wait_interval": 0
     }
    },
    "colab_type": "code",
    "id": "MCehFBmfZ-xq"
   },
   "outputs": [],
   "source": [
    "class ModelCombiner(BaseEstimator):\n",
    "    def __init__(self, estimators):\n",
    "        \"\"\"estimators is a dictionary of estimators corresponding \n",
    "        to the keys {'RW', 'RN', 'CW', 'CN'}\n",
    "        \"\"\"\n",
    "        self.estimators = estimators\n",
    "        \n",
    "    def fit(self, X, y=None):   \n",
    "        \"\"\"Here X includes 'count', registered' and 'casual'\n",
    "        \"\"\"\n",
    "        # Model RW\n",
    "        X_w = X.loc[X.workingday==1]\\\n",
    "            .drop(['count', 'casual', 'registered', 'workingday'], \n",
    "                  axis=1, inplace=False)\n",
    "        y_rw = X.loc[X.workingday==1, 'registered']\n",
    "        self.estimators['RW'].fit(X_w, y_rw)\n",
    "        # Model CW\n",
    "        X_w = X.loc[X.workingday==1]\\\n",
    "            .drop(['count', 'casual', 'registered', 'workingday'], \n",
    "                  axis=1, inplace=False)\n",
    "        y_cw = X.loc[X.workingday==1, 'casual']\n",
    "        self.estimators['CW'].fit(X_w, y_cw)        \n",
    "        # Model RN\n",
    "        X_n = X.loc[X.workingday==0]\\\n",
    "            .drop(['count', 'casual', 'registered', 'workingday'], \n",
    "                  axis=1, inplace=False)\n",
    "        y_rn = X.loc[X.workingday==0, 'registered']\n",
    "        self.estimators['RN'].fit(X_n, y_rn)        \n",
    "        # Model CN\n",
    "        X_n = X.loc[X.workingday==0]\\\n",
    "            .drop(['count', 'casual', 'registered', 'workingday'], \n",
    "                  axis=1, inplace=False)\n",
    "        y_cn = X.loc[X.workingday==0, 'casual']\n",
    "        self.estimators['CN'].fit(X_n, y_cn)\n",
    "        \n",
    "        return self\n",
    "    \n",
    "    def predict(self, X, y=None):\n",
    "        \"\"\"Here X does NOT include 'count', 'registered' and 'casual'\n",
    "        \"\"\"\n",
    "        X_w = X.loc[X.workingday==1].drop(['workingday'], axis=1, inplace=False)\n",
    "        X_n = X.loc[X.workingday==0].drop(['workingday'], axis=1, inplace=False)\n",
    "        \n",
    "        # Model RW\n",
    "        y_rw_ = pd.Series(self.estimators['RW'].predict(X_w), \n",
    "                          index=X_w.index, name='RW')\n",
    "        # Model RN\n",
    "        y_rn_ = pd.Series(self.estimators['RN'].predict(X_n), \n",
    "                          index=X_n.index, name='RN')\n",
    "        y_r_ = pd.concat([y_rw_, y_rn_], axis=0)\n",
    "        \n",
    "        # Model CW\n",
    "        y_cw_ = pd.Series(self.estimators['CW'].predict(X_w), \n",
    "                          index=X_w.index, name='CW')\n",
    "        # Model CN\n",
    "        y_cn_ = pd.Series(self.estimators['CN'].predict(X_n), \n",
    "                          index=X_n.index, name='CN')\n",
    "        y_c_ = pd.concat([y_cw_, y_cn_], axis=0)\n",
    "        \n",
    "        return y_r_ + y_c_"
   ]
  },
  {
   "cell_type": "code",
   "execution_count": 0,
   "metadata": {
    "colab": {
     "autoexec": {
      "startup": false,
      "wait_interval": 0
     }
    },
    "colab_type": "code",
    "id": "_JyQItFqZ-xr"
   },
   "outputs": [],
   "source": [
    "all4_model = ModelCombiner({'RW': rw_model_rf, 'RN': rn_model_rf, \n",
    "                            'CW': cw_model_rf, 'CN': cn_model_rf})"
   ]
  },
  {
   "cell_type": "code",
   "execution_count": 89,
   "metadata": {
    "colab": {
     "autoexec": {
      "startup": false,
      "wait_interval": 0
     },
     "base_uri": "https://localhost:8080/",
     "height": 121
    },
    "colab_type": "code",
    "executionInfo": {
     "elapsed": 5909,
     "status": "ok",
     "timestamp": 1533373911961,
     "user": {
      "displayName": "Amit Rappel",
      "photoUrl": "//lh5.googleusercontent.com/-Stg14jONmNc/AAAAAAAAAAI/AAAAAAAAAos/0hU6Y5dO8yk/s50-c-k-no/photo.jpg",
      "userId": "110543092444518971604"
     },
     "user_tz": -180
    },
    "id": "pPRmkEsZZ-xt",
    "outputId": "88984e26-1bc5-49ac-98f4-bdc55df8c5bb"
   },
   "outputs": [
    {
     "data": {
      "text/plain": [
       "ModelCombiner(estimators={'RW': RandomForestRegressor(bootstrap=True, criterion='mse', max_depth=None,\n",
       "           max_features=7, max_leaf_nodes=None, min_impurity_decrease=0.0,\n",
       "           min_impurity_split=None, min_samples_leaf=1,\n",
       "           min_samples_split=2, min_weight_fraction_leaf=0.0,\n",
       "           n_estim...n_estimators=100, n_jobs=1, oob_score=True, random_state=0,\n",
       "           verbose=0, warm_start=False)})"
      ]
     },
     "execution_count": 89,
     "metadata": {
      "tags": []
     },
     "output_type": "execute_result"
    }
   ],
   "source": [
    "all4_model.fit(train_data)"
   ]
  },
  {
   "cell_type": "code",
   "execution_count": 0,
   "metadata": {
    "colab": {
     "autoexec": {
      "startup": false,
      "wait_interval": 0
     }
    },
    "colab_type": "code",
    "id": "YEpd4Qz0Z-xv"
   },
   "outputs": [],
   "source": [
    "y_pred_train = all4_model\\\n",
    "    .predict(train_data.drop(['count', 'casual', 'registered'], \n",
    "                             axis=1, inplace=False))"
   ]
  },
  {
   "cell_type": "code",
   "execution_count": 91,
   "metadata": {
    "colab": {
     "autoexec": {
      "startup": false,
      "wait_interval": 0
     },
     "base_uri": "https://localhost:8080/",
     "height": 139
    },
    "colab_type": "code",
    "executionInfo": {
     "elapsed": 630,
     "status": "ok",
     "timestamp": 1533373914730,
     "user": {
      "displayName": "Amit Rappel",
      "photoUrl": "//lh5.googleusercontent.com/-Stg14jONmNc/AAAAAAAAAAI/AAAAAAAAAos/0hU6Y5dO8yk/s50-c-k-no/photo.jpg",
      "userId": "110543092444518971604"
     },
     "user_tz": -180
    },
    "id": "P6AT1uw1Z-xw",
    "outputId": "aba230b8-136f-439c-a5c4-213281c17fb9"
   },
   "outputs": [
    {
     "data": {
      "text/plain": [
       "datetime\n",
       "2011-01-01 02:00:00    27.57\n",
       "2011-01-01 03:00:00    14.29\n",
       "2011-01-01 04:00:00     2.14\n",
       "2011-01-01 05:00:00     2.04\n",
       "2011-01-01 06:00:00     2.30\n",
       "dtype: float64"
      ]
     },
     "execution_count": 91,
     "metadata": {
      "tags": []
     },
     "output_type": "execute_result"
    }
   ],
   "source": [
    "y_pred_train.sort_index().head()"
   ]
  },
  {
   "cell_type": "code",
   "execution_count": 92,
   "metadata": {
    "colab": {
     "autoexec": {
      "startup": false,
      "wait_interval": 0
     },
     "base_uri": "https://localhost:8080/",
     "height": 35
    },
    "colab_type": "code",
    "executionInfo": {
     "elapsed": 651,
     "status": "ok",
     "timestamp": 1533373916708,
     "user": {
      "displayName": "Amit Rappel",
      "photoUrl": "//lh5.googleusercontent.com/-Stg14jONmNc/AAAAAAAAAAI/AAAAAAAAAos/0hU6Y5dO8yk/s50-c-k-no/photo.jpg",
      "userId": "110543092444518971604"
     },
     "user_tz": -180
    },
    "id": "rFPoKQmWZ-xz",
    "outputId": "d249138b-aa6e-4b09-8902-4eab07ba14b8"
   },
   "outputs": [
    {
     "data": {
      "text/plain": [
       "0.153635006027249"
      ]
     },
     "execution_count": 92,
     "metadata": {
      "tags": []
     },
     "output_type": "execute_result"
    }
   ],
   "source": [
    "rmsle(y=train_data['count'].sort_index(), y_pred=y_pred_train.sort_index())"
   ]
  },
  {
   "cell_type": "markdown",
   "metadata": {
    "colab_type": "text",
    "id": "JZvFt7T_Z-x1"
   },
   "source": [
    "# Validation"
   ]
  },
  {
   "cell_type": "markdown",
   "metadata": {
    "colab_type": "text",
    "id": "Q9rENT9A6we8"
   },
   "source": [
    "We now turn to our test data..."
   ]
  },
  {
   "cell_type": "code",
   "execution_count": 0,
   "metadata": {
    "colab": {
     "autoexec": {
      "startup": false,
      "wait_interval": 0
     }
    },
    "colab_type": "code",
    "id": "GUoU0_PrZ-x2"
   },
   "outputs": [],
   "source": [
    "data = test_data\n",
    "data = explode_dt(data)\n",
    "data.year -= 2011\n",
    "train_data.loc[:, 'windspeed'] = \\\n",
    "    train_data.windspeed.rolling(window=5, center=True).mean()\n",
    "train_data = train_data[train_data.windspeed.notnull()]\n",
    "data.drop('season', axis=1, inplace=True)\n",
    "data.drop('atemp', axis=1, inplace=True)\n",
    "data.drop('holiday', axis=1, inplace=True)\n",
    "data.drop('weekday', axis=1, inplace=True)\n",
    "\n",
    "data.loc[data.weather==4, 'weather'] = 3"
   ]
  },
  {
   "cell_type": "code",
   "execution_count": 0,
   "metadata": {
    "colab": {
     "autoexec": {
      "startup": false,
      "wait_interval": 0
     }
    },
    "colab_type": "code",
    "id": "zuRGrMZsZ-x3"
   },
   "outputs": [],
   "source": [
    "y_pred_test = all4_model\\\n",
    "    .predict(data.drop(['count', 'casual', 'registered'], \n",
    "                       axis=1, inplace=False))"
   ]
  },
  {
   "cell_type": "code",
   "execution_count": 95,
   "metadata": {
    "colab": {
     "autoexec": {
      "startup": false,
      "wait_interval": 0
     },
     "base_uri": "https://localhost:8080/",
     "height": 35
    },
    "colab_type": "code",
    "executionInfo": {
     "elapsed": 619,
     "status": "ok",
     "timestamp": 1533373922685,
     "user": {
      "displayName": "Amit Rappel",
      "photoUrl": "//lh5.googleusercontent.com/-Stg14jONmNc/AAAAAAAAAAI/AAAAAAAAAos/0hU6Y5dO8yk/s50-c-k-no/photo.jpg",
      "userId": "110543092444518971604"
     },
     "user_tz": -180
    },
    "id": "ETv1amP_Z-x4",
    "outputId": "30f24693-658e-4039-f417-2de3a6cc793c"
   },
   "outputs": [
    {
     "data": {
      "text/plain": [
       "0.36091280213566707"
      ]
     },
     "execution_count": 95,
     "metadata": {
      "tags": []
     },
     "output_type": "execute_result"
    }
   ],
   "source": [
    "rmsle(y=test_data['count'].sort_index(), y_pred=y_pred_test.sort_index())"
   ]
  },
  {
   "cell_type": "markdown",
   "metadata": {
    "colab_type": "text",
    "id": "v6NFR6QMZ-x6"
   },
   "source": [
    "**Alert:** This result obviously means over-fitting..."
   ]
  },
  {
   "cell_type": "markdown",
   "metadata": {
    "colab_type": "text",
    "id": "bTxz3ii8Z-x6"
   },
   "source": [
    "# Submission"
   ]
  },
  {
   "cell_type": "code",
   "execution_count": 116,
   "metadata": {
    "colab": {
     "autoexec": {
      "startup": false,
      "wait_interval": 0
     },
     "base_uri": "https://localhost:8080/",
     "height": 73,
     "resources": {
      "http://localhost:8080/nbextensions/google.colab/files.js": {
       "data": "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",
       "headers": [
        [
         "content-type",
         "application/javascript"
        ]
       ],
       "ok": true,
       "status": 200,
       "status_text": ""
      }
     }
    },
    "colab_type": "code",
    "executionInfo": {
     "elapsed": 10302,
     "status": "ok",
     "timestamp": 1533375614769,
     "user": {
      "displayName": "Amit Rappel",
      "photoUrl": "//lh5.googleusercontent.com/-Stg14jONmNc/AAAAAAAAAAI/AAAAAAAAAos/0hU6Y5dO8yk/s50-c-k-no/photo.jpg",
      "userId": "110543092444518971604"
     },
     "user_tz": -180
    },
    "id": "DvkrAQNxTkqw",
    "outputId": "b07d7606-c4ed-49d3-c461-476f893c66b8"
   },
   "outputs": [
    {
     "data": {
      "text/html": [
       "\n",
       "     <input type=\"file\" id=\"files-7cc2dae0-9040-4cf2-bdd8-17daa9ae10e4\" name=\"files[]\" multiple disabled />\n",
       "     <output id=\"result-7cc2dae0-9040-4cf2-bdd8-17daa9ae10e4\">\n",
       "      Upload widget is only available when the cell has been executed in the\n",
       "      current browser session. Please rerun this cell to enable.\n",
       "      </output>\n",
       "      <script src=\"/nbextensions/google.colab/files.js\"></script> "
      ],
      "text/plain": [
       "<IPython.core.display.HTML object>"
      ]
     },
     "metadata": {
      "tags": []
     },
     "output_type": "display_data"
    },
    {
     "name": "stdout",
     "output_type": "stream",
     "text": [
      "Saving test.csv to test (1).csv\n"
     ]
    }
   ],
   "source": [
    "if 'google.colab' in modules:\n",
    "    from google.colab import files\n",
    "    uploaded = files.upload()"
   ]
  },
  {
   "cell_type": "code",
   "execution_count": 0,
   "metadata": {
    "colab": {
     "autoexec": {
      "startup": false,
      "wait_interval": 0
     }
    },
    "colab_type": "code",
    "id": "H-cqu6ObZ-x7"
   },
   "outputs": [],
   "source": [
    "data = read_csv('test.csv', parse_dates=[0], index_col=0)\n",
    "data = explode_dt(data)\n",
    "data.year -= 2011\n",
    "train_data.loc[:, 'windspeed'] = \\\n",
    "    train_data.windspeed.rolling(window=5, center=True).mean()\n",
    "train_data = train_data[train_data.windspeed.notnull()]\n",
    "data.drop('season', axis=1, inplace=True)\n",
    "data.drop('atemp', axis=1, inplace=True)\n",
    "data.drop('holiday', axis=1, inplace=True)\n",
    "data.drop('weekday', axis=1, inplace=True)\n",
    "\n",
    "data.loc[data.weather==4, 'weather'] = 3"
   ]
  },
  {
   "cell_type": "code",
   "execution_count": 118,
   "metadata": {
    "colab": {
     "autoexec": {
      "startup": false,
      "wait_interval": 0
     },
     "base_uri": "https://localhost:8080/",
     "height": 139
    },
    "colab_type": "code",
    "executionInfo": {
     "elapsed": 826,
     "status": "ok",
     "timestamp": 1533375628380,
     "user": {
      "displayName": "Amit Rappel",
      "photoUrl": "//lh5.googleusercontent.com/-Stg14jONmNc/AAAAAAAAAAI/AAAAAAAAAos/0hU6Y5dO8yk/s50-c-k-no/photo.jpg",
      "userId": "110543092444518971604"
     },
     "user_tz": -180
    },
    "id": "W6xT15sGZ-x7",
    "outputId": "5b35fefb-f9ec-4a6e-d983-d1d13c2ebf0a"
   },
   "outputs": [
    {
     "data": {
      "text/plain": [
       "datetime\n",
       "2011-01-20 00:00:00    8.68\n",
       "2011-01-20 01:00:00    5.10\n",
       "2011-01-20 02:00:00    3.57\n",
       "2011-01-20 03:00:00    2.92\n",
       "2011-01-20 04:00:00    2.49\n",
       "Name: count, dtype: float64"
      ]
     },
     "execution_count": 118,
     "metadata": {
      "tags": []
     },
     "output_type": "execute_result"
    }
   ],
   "source": [
    "y_pred_submission = all4_model.predict(data).rename('count')\n",
    "y_pred_submission.head()"
   ]
  },
  {
   "cell_type": "code",
   "execution_count": 0,
   "metadata": {
    "colab": {
     "autoexec": {
      "startup": false,
      "wait_interval": 0
     }
    },
    "colab_type": "code",
    "id": "S0RlbslHZ-x9"
   },
   "outputs": [],
   "source": [
    "y_pred_submission.to_csv('submission.csv', header=True)"
   ]
  },
  {
   "cell_type": "code",
   "execution_count": 0,
   "metadata": {
    "colab": {
     "autoexec": {
      "startup": false,
      "wait_interval": 0
     }
    },
    "colab_type": "code",
    "id": "FXFDKnJUcOFj"
   },
   "outputs": [],
   "source": [
    "if 'google.colab' in modules:\n",
    "    files.download('submission.csv')"
   ]
  }
 ],
 "metadata": {
  "colab": {
   "collapsed_sections": [],
   "default_view": {},
   "name": "Bike sharing - project walk-through.ipynb",
   "provenance": [],
   "version": "0.3.2",
   "views": {}
  },
  "kernelspec": {
   "display_name": "Python 3",
   "language": "python",
   "name": "python3"
  },
  "language_info": {
   "codemirror_mode": {
    "name": "ipython",
    "version": 3
   },
   "file_extension": ".py",
   "mimetype": "text/x-python",
   "name": "python",
   "nbconvert_exporter": "python",
   "pygments_lexer": "ipython3",
   "version": "3.6.5"
  }
 },
 "nbformat": 4,
 "nbformat_minor": 1
}
